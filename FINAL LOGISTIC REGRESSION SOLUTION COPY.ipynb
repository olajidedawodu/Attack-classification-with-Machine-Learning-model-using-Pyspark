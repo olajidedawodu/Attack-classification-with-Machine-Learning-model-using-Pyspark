{
 "cells": [
  {
   "cell_type": "code",
   "execution_count": 1,
   "metadata": {},
   "outputs": [
    {
     "name": "stdout",
     "output_type": "stream",
     "text": [
      "Note: you may need to restart the kernel to use updated packages.\n"
     ]
    }
   ],
   "source": [
    "pip install -q findspark"
   ]
  },
  {
   "cell_type": "code",
   "execution_count": 2,
   "metadata": {},
   "outputs": [],
   "source": [
    "import findspark\n",
    "findspark.init('/home/bigdata/Documents/spark-3.0.0')"
   ]
  },
  {
   "cell_type": "code",
   "execution_count": 3,
   "metadata": {},
   "outputs": [],
   "source": [
    "from pyspark.sql.types import StructType\n",
    "from pyspark.sql.types import StringType\n",
    "from pyspark.sql.types import IntegerType\n",
    "from pyspark.sql.types import ByteType\n",
    "from pyspark.sql.types import FloatType\n",
    "from pyspark.sql.types import BinaryType\n",
    "from pyspark.sql.types import DataType\n",
    "from pyspark.sql.types import StructField\n",
    "import pandas as pd\n",
    "import numpy as np\n",
    "from pyspark.sql.session import SparkSession"
   ]
  },
  {
   "cell_type": "code",
   "execution_count": 4,
   "metadata": {},
   "outputs": [],
   "source": [
    "spark = SparkSession.builder.getOrCreate()"
   ]
  },
  {
   "cell_type": "code",
   "execution_count": 5,
   "metadata": {},
   "outputs": [],
   "source": [
    "schema = StructType([ StructField(\"srcip\", StringType(), True),   \n",
    "    StructField(\"sport\", IntegerType(), True),  \n",
    "    StructField(\"dstip\", StringType(), True),   \n",
    "    StructField(\"dsport\", IntegerType(), True), \n",
    "    StructField(\"proto\", StringType(), True),  \n",
    "    StructField(\"state\", StringType(), True),\n",
    "    StructField(\"dur\", FloatType(), True),       \n",
    "    StructField(\"sbytes\", ByteType(), True),    \n",
    "    StructField(\"dbytes\", ByteType(), True),    \n",
    "    StructField(\"sttl\", IntegerType(), True), \n",
    "    StructField(\"dttl\", IntegerType(), True),   \n",
    "    StructField(\"sloss\", IntegerType(), True),\n",
    "    StructField(\"dloss\", IntegerType(), True),\n",
    "    StructField(\"service\", StringType(), True),    \n",
    "    StructField(\"Sload\", FloatType(), True),  \n",
    "    StructField(\"Dload\", FloatType(), True), \n",
    "    StructField(\"Spkts\", IntegerType(), True),    \n",
    "    StructField(\"Dpkts\", IntegerType(), True),    \n",
    "    StructField(\"swin\", IntegerType(), True),\n",
    "    StructField(\"dwin\", IntegerType(), True), \n",
    "    StructField(\"stcpb\", IntegerType(), True),  \n",
    "    StructField(\"dtcpb\", IntegerType(), True),    \n",
    "    StructField(\"smeansz\", IntegerType(), True),   \n",
    "    StructField(\"dmeansz\", IntegerType(), True),  \n",
    "    StructField(\"trans_depth\", IntegerType(), True),  \n",
    "    StructField(\"res_bdy_len\", IntegerType(), True),    \n",
    "    StructField(\"Sjit\", FloatType(), True),    \n",
    "    StructField(\"Djit\", FloatType(), True),     \n",
    "    StructField(\"Stime\", IntegerType(), True), \n",
    "    StructField(\"Ltime\", IntegerType(), True),   \n",
    "    StructField(\"Sintpkt\", FloatType(), True),\n",
    "    StructField(\"Dintpkt\", FloatType(), True),    \n",
    "    StructField(\"tcprtt\", FloatType(), True),  \n",
    "    StructField(\"synack\", FloatType(), True),    \n",
    "    StructField(\"ackdat\", FloatType(), True),  \n",
    "    StructField(\"is_sm_ips_ports\", IntegerType(), True),    \n",
    "    StructField(\"ct_state_ttl\", IntegerType(), True), \n",
    "    StructField(\"ct_flw_http_mthd\", IntegerType(), True), \n",
    "    StructField(\"is_ftp_login\", IntegerType(), True),  \n",
    "    StructField(\"ct_ftp_cmd\", IntegerType(), True),\n",
    "    StructField(\"ct_srv_src\", IntegerType(), True),    \n",
    "    StructField (\"ct_srv_dst\", IntegerType(), True),  \n",
    "    StructField(\"ct_dst_ltm\", IntegerType(), True),   \n",
    "    StructField(\"ct_src_ltm\", IntegerType(), True),    \n",
    "    StructField(\"ct_src_dport_ltm\", IntegerType(), True),    \n",
    "    StructField(\"ct_dst_sport_ltm\", IntegerType(), True),  \n",
    "    StructField(\"ct_dst_src_ltm\", IntegerType(), True),  \n",
    "    StructField(\"attack_cat\", StringType(), True),    \n",
    "    StructField(\"Label\", IntegerType(), True) \n",
    "    \n",
    "])"
   ]
  },
  {
   "cell_type": "code",
   "execution_count": 6,
   "metadata": {},
   "outputs": [],
   "source": [
    "df_schema = spark.read.format(\"csv\").option(\"header\", \"True\").schema(schema).load(\"/home/bigdata/UNSW-NB15.csv\")"
   ]
  },
  {
   "cell_type": "code",
   "execution_count": 7,
   "metadata": {},
   "outputs": [
    {
     "name": "stdout",
     "output_type": "stream",
     "text": [
      "+----------+-----+-------------+------+-----+-----+--------+------+------+----+----+-----+-----+--------+---------+---------+-----+-----+----+----+----------+----------+-------+-------+-----------+-----------+---------+---------+----------+----------+---------+---------+-------+-------+-------+---------------+------------+----------------+------------+----------+----------+----------+----------+----------+----------------+----------------+--------------+----------+-----+\n",
      "|     srcip|sport|        dstip|dsport|proto|state|     dur|sbytes|dbytes|sttl|dttl|sloss|dloss| service|    Sload|    Dload|Spkts|Dpkts|swin|dwin|     stcpb|     dtcpb|smeansz|dmeansz|trans_depth|res_bdy_len|     Sjit|     Djit|     Stime|     Ltime|  Sintpkt|  Dintpkt| tcprtt| synack| ackdat|is_sm_ips_ports|ct_state_ttl|ct_flw_http_mthd|is_ftp_login|ct_ftp_cmd|ct_srv_src|ct_srv_dst|ct_dst_ltm|ct_src_ltm|ct_src_dport_ltm|ct_dst_sport_ltm|ct_dst_src_ltm|attack_cat|Label|\n",
      "+----------+-----+-------------+------+-----+-----+--------+------+------+----+----+-----+-----+--------+---------+---------+-----+-----+----+----+----------+----------+-------+-------+-----------+-----------+---------+---------+----------+----------+---------+---------+-------+-------+-------+---------------+------------+----------------+------------+----------+----------+----------+----------+----------+----------------+----------------+--------------+----------+-----+\n",
      "|59.166.0.0|43467|149.171.126.6| 49729|  tcp|  FIN|0.101815|  null|  null|  31|  29|    7|   30|       -|328438.84|5087030.5|   72|   74| 255| 255| 961515433|      null|     59|    887|          0|          0|      0.0| 91.57957|1421970775|1421970775| 1.429493| 1.387192| 6.8E-4|5.46E-4|1.34E-4|              0|           0|               0|           0|         0|         7|         4|         1|         6|               1|               1|             1|      null|    0|\n",
      "|59.166.0.5|41289|149.171.126.2|  9574|  tcp|  FIN|0.044003|  null|  null|  31|  29|    7|   17|       -|488693.97|5181101.5|   44|   48| 255| 255|      null|1191410228|     63|    606|          0|          0| 78.12697|62.206562|1421970775|1421970775| 1.014977|  0.92583|0.00125|4.85E-4|7.65E-4|              0|           0|               0|           0|         0|         3|         5|         3|         3|               1|               1|             1|      null|    0|\n",
      "|59.166.0.9|43785|149.171.126.0|  6881|  tcp|  FIN| 2.79083|  null|  null|  31|  29|   16|  143|       -|29863.518|1130840.8|  180|  320| 255| 255|      null|      null|     58|   1237|          0|          0|2707.4927| 2018.976|1421970772|1421970775|15.589459| 8.747012|6.84E-4|5.32E-4|1.52E-4|              0|           0|               0|           0|         0|        11|         4|         3|         2|               1|               1|             1|      null|    0|\n",
      "|59.166.0.8|40691|149.171.126.9|  6881|  tcp|  FIN|  2.6335|  null|  null|  31|  29|   21|  197|       -| 40381.24|1661560.6|  232|  438| 255| 255|   1518931|  18267719|     58|   1252|          0|          0| 718.3368|500.57288|1421970773|1421970775|11.399026| 6.025183|6.19E-4|4.89E-4| 1.3E-4|              0|           0|               0|           0|         0|        16|         7|         7|         1|               1|               1|             1|      null|    0|\n",
      "|59.166.0.3|20393|149.171.126.3|  5190|  tcp|  FIN|0.115048|  null|  null|  31|  29|    6|    6|       -|129963.15|153814.06|   22|   24| 255| 255|      null|      null|     89|     96|          0|          0|435.26627|417.08563|1421970775|1421970775| 5.460381| 4.976913| 7.1E-4|5.73E-4|1.37E-4|              0|           0|               0|           0|         0|         2|         6|         1|         4|               1|               1|             1|      null|    0|\n",
      "|59.166.0.7|19792|149.171.126.0|    53|  udp|  CON|0.003362|  null|  null|  31|  29|    0|    0|     dns|173706.12| 211778.7|    2|    2|   0|   0|         0|         0|     73|     89|          0|          0|      0.0|      0.0|1421970775|1421970775|    0.011|    0.006|    0.0|    0.0|    0.0|              0|           0|               0|           0|         0|         3|         2|         3|         3|               3|               1|             1|      null|    0|\n",
      "|59.166.0.3|14382|149.171.126.9|  3354|  tcp|  FIN|0.453052|  null|  null|  31|  29|    1|    4|ftp-data| 6551.124| 142835.7|    8|   12| 255| 255|      null|      null|     53|    735|          0|          0| 3906.795|3074.6694|1421970775|1421970775| 64.67129|   41.135| 6.8E-4|5.59E-4|1.21E-4|              0|           0|               0|           0|         0|         4|         6|         7|         4|               1|               1|             2|      null|    0|\n",
      "|59.166.0.9|37074|149.171.126.2|    53|  udp|  CON|0.001088|  null|  null|  31|  29|    0|    0|     dns| 536764.7|654411.75|    2|    2|   0|   0|         0|         0|     73|     89|          0|          0|      0.0|      0.0|1421970775|1421970775|    0.001|    0.009|    0.0|    0.0|    0.0|              0|           0|               0|           0|         0|         2|         5|         3|         2|               1|               1|             1|      null|    0|\n",
      "|59.166.0.7|12569|149.171.126.5|    53|  udp|  CON| 9.69E-4|  null|  null|  31|  29|    0|    0|     dns| 602683.2| 734778.1|    2|    2|   0|   0|         0|         0|     73|     89|          0|          0|      0.0|      0.0|1421970775|1421970775|     0.01|    0.003|    0.0|    0.0|    0.0|              0|           0|               0|           0|         0|         3|         1|         2|         3|               3|               1|             1|      null|    0|\n",
      "|59.166.0.1|12792|149.171.126.7|    53|  udp|  CON|0.001063|  null|  null|  31|  29|    0|    0|     dns|549388.56| 669802.5|    2|    2|   0|   0|         0|         0|     73|     89|          0|          0|      0.0|      0.0|1421970780|1421970780|    0.002|    0.003|    0.0|    0.0|    0.0|              0|           0|               0|           0|         0|         5|         3|         2|         4|               3|               1|             1|      null|    0|\n",
      "|59.166.0.0|63414|149.171.126.9| 10330|  tcp|  FIN|0.265011|  null|  null|  31|  29|    4|    1|ftp-data|250283.94|8060.0425|   14|    6| 255| 255|      null|      null|    638|     53|          0|          0|1725.2916| 71.46425|1421970775|1421970776|20.385462|52.644802|7.75E-4|6.33E-4|1.42E-4|              0|           0|               0|           0|         0|         3|         6|         6|         5|               1|               1|             2|      null|    0|\n",
      "|59.166.0.1|33555|149.171.126.3|  6881|  tcp|  FIN|0.517128|  null|  null|  31|  29|    4|    4|       -|22338.764|  24025.0|   16|   18| 255| 255|1741520309|      null|     96|     91|          0|          0|2036.1301| 51.91766|1421970776|1421970776| 34.43333|30.388353|6.54E-4|5.22E-4|1.32E-4|              0|           0|               0|           0|         0|         4|         6|         5|         7|               4|               1|             4|      null|    0|\n",
      "|59.166.0.8|10867|149.171.126.8|   111|  udp|  CON|0.005339|  null|  null|  31|  29|    0|    0|       -| 638321.8|350627.47|    4|    4|   0|   0|         0|         0|    142|     78|          0|          0|  1.74302| 1.757632|1421970776|1421970776|     1.24| 1.252333|    0.0|    0.0|    0.0|              0|           0|               0|           0|         0|        16|         7|         5|         5|               1|               1|             4|      null|    0|\n",
      "|59.166.0.8|12411|149.171.126.8|  1715|  udp|  CON|0.001739|  null|  null|  31|  29|    0|    0|       -|1766532.5|1048878.6|    4|    4|   0|   0|         0|         0|    128|     76|          0|          0| 0.630268| 0.318434|1421970776|1421970776| 0.449667| 0.227667|    0.0|    0.0|    0.0|              0|           0|               0|           0|         0|        16|         7|         5|         5|               1|               1|             4|      null|    0|\n",
      "|59.166.0.8|46725|149.171.126.2|    53|  udp|  CON|0.001018|  null|  null|  31|  29|    0|    0|     dns| 573673.9| 699410.6|    2|    2|   0|   0|         0|         0|     73|     89|          0|          0|      0.0|      0.0|1421970776|1421970776|    0.011|    0.011|    0.0|    0.0|    0.0|              0|           0|               0|           0|         0|         2|         5|         3|         5|               1|               1|             1|      null|    0|\n",
      "|59.166.0.1|51562|149.171.126.4|    53|  udp|  CON|0.001044|  null|  null|  31|  29|    0|    0|     dns|559386.94| 681992.3|    2|    2|   0|   0|         0|         0|     73|     89|          0|          0|      0.0|      0.0|1421970776|1421970776|    0.011|    0.003|    0.0|    0.0|    0.0|              0|           0|               0|           0|         0|         2|         3|         5|         7|               2|               1|             3|      null|    0|\n",
      "|59.166.0.3|48838|149.171.126.2|    53|  udp|  CON| 9.87E-4|  null|  null|  31|  29|    0|    0|     dns| 591692.0|721377.94|    2|    2|   0|   0|         0|         0|     73|     89|          0|          0|      0.0|      0.0|1421970776|1421970776|    0.008|    0.003|    0.0|    0.0|    0.0|              0|           0|               0|           0|         0|         2|         5|         3|         3|               1|               1|             1|      null|    0|\n",
      "|59.166.0.0|16907|149.171.126.9|    21|  tcp|  FIN|2.254712|  null|  null|  31|  29|   11|   15|     ftp|10211.503|13025.166|   52|   54| 255| 255| 241515551|      null|     56|     69|          0|          0|3141.3708| 99.93412|1421970773|1421970776|44.203648|42.531734|6.61E-4|5.25E-4|1.36E-4|              0|           0|               0|           0|         0|         1|         3|         6|         5|               1|               1|             2|      null|    0|\n",
      "|59.166.0.0| 1915|149.171.126.4| 32945|  tcp|  FIN|0.051221|  null|  null|  31|  29|    7|   17|       -|436071.16|4450987.0|   46|   48| 255| 255|1921515932|1974066994|     62|    606|          0|          0|78.226654| 76.38798|1421970776|1421970776| 1.129422|  1.07817| 8.1E-4|5.43E-4|2.67E-4|              0|           0|               0|           0|         0|         7|         2|         5|         5|               1|               1|             2|      null|    0|\n",
      "|59.166.0.4| 1309|149.171.126.8| 52139|  tcp|  FIN|0.091375|  null|  null|  31|  29|    7|   30|       -|365964.44|5668246.0|   72|   74| 255| 255|1681522413|1731423574|     59|    887|          0|          0|      0.0| 77.51891|1421970776|1421970776| 1.268014|  1.24474|6.39E-4|5.05E-4|1.34E-4|              0|           0|               0|           0|         0|         2|         7|         5|         2|               1|               1|             1|      null|    0|\n",
      "+----------+-----+-------------+------+-----+-----+--------+------+------+----+----+-----+-----+--------+---------+---------+-----+-----+----+----+----------+----------+-------+-------+-----------+-----------+---------+---------+----------+----------+---------+---------+-------+-------+-------+---------------+------------+----------------+------------+----------+----------+----------+----------+----------+----------------+----------------+--------------+----------+-----+\n",
      "only showing top 20 rows\n",
      "\n"
     ]
    }
   ],
   "source": [
    "df_schema.show()"
   ]
  },
  {
   "cell_type": "code",
   "execution_count": 8,
   "metadata": {},
   "outputs": [],
   "source": [
    "df_schema = df_schema.drop(\"srcip\", \"sport\", \"dstip\", \"dsport\", \"stime\", \"ltime\", \"Label\")"
   ]
  },
  {
   "cell_type": "code",
   "execution_count": 9,
   "metadata": {},
   "outputs": [],
   "source": [
    "from pyspark.sql.functions import col, Column, lit,when, regexp_replace"
   ]
  },
  {
   "cell_type": "code",
   "execution_count": 10,
   "metadata": {},
   "outputs": [],
   "source": [
    "\n",
    "df_schema = df_schema.withColumn('attack_cat', regexp_replace(col('attack_cat'), \" \", \"\"))"
   ]
  },
  {
   "cell_type": "code",
   "execution_count": 11,
   "metadata": {},
   "outputs": [],
   "source": [
    "df_schema= df_schema.withColumn('attack_cat', regexp_replace(col('attack_cat'), \"Backdoors\", \"Backdoor\"))"
   ]
  },
  {
   "cell_type": "code",
   "execution_count": 12,
   "metadata": {},
   "outputs": [
    {
     "name": "stdout",
     "output_type": "stream",
     "text": [
      "+--------------+\n",
      "|    attack_cat|\n",
      "+--------------+\n",
      "|         Worms|\n",
      "|     Shellcode|\n",
      "|          null|\n",
      "|       Fuzzers|\n",
      "|      Analysis|\n",
      "|           DoS|\n",
      "|Reconnaissance|\n",
      "|      Backdoor|\n",
      "|      Exploits|\n",
      "|       Generic|\n",
      "+--------------+\n",
      "\n"
     ]
    }
   ],
   "source": [
    "df_schema.select('attack_cat').distinct().show()"
   ]
  },
  {
   "cell_type": "code",
   "execution_count": 13,
   "metadata": {},
   "outputs": [],
   "source": [
    "df_schemas = df_schema.withColumn('attack_cat', regexp_replace(col('attack_cat'), \"Backdoor\", \"Backdoors\"))"
   ]
  },
  {
   "cell_type": "code",
   "execution_count": 14,
   "metadata": {},
   "outputs": [
    {
     "name": "stdout",
     "output_type": "stream",
     "text": [
      "+--------------+\n",
      "|    attack_cat|\n",
      "+--------------+\n",
      "|         Worms|\n",
      "|     Shellcode|\n",
      "|          null|\n",
      "|     Backdoors|\n",
      "|       Fuzzers|\n",
      "|      Analysis|\n",
      "|           DoS|\n",
      "|Reconnaissance|\n",
      "|      Exploits|\n",
      "|       Generic|\n",
      "+--------------+\n",
      "\n"
     ]
    }
   ],
   "source": [
    "df_schemas.select('attack_cat').distinct().show()"
   ]
  },
  {
   "cell_type": "code",
   "execution_count": 15,
   "metadata": {},
   "outputs": [],
   "source": [
    "df_schemas = df_schema.withColumn('attack_cat', regexp_replace(col('attack_cat'), \" \" , \"normal\"))"
   ]
  },
  {
   "cell_type": "code",
   "execution_count": 16,
   "metadata": {},
   "outputs": [
    {
     "name": "stdout",
     "output_type": "stream",
     "text": [
      "+--------------+\n",
      "|    attack_cat|\n",
      "+--------------+\n",
      "|         Worms|\n",
      "|     Shellcode|\n",
      "|          null|\n",
      "|       Fuzzers|\n",
      "|      Analysis|\n",
      "|           DoS|\n",
      "|Reconnaissance|\n",
      "|      Backdoor|\n",
      "|      Exploits|\n",
      "|       Generic|\n",
      "+--------------+\n",
      "\n"
     ]
    }
   ],
   "source": [
    "df_schemas.select('attack_cat').distinct().show()"
   ]
  },
  {
   "cell_type": "code",
   "execution_count": 17,
   "metadata": {},
   "outputs": [],
   "source": [
    "df_schem = df_schemas.fillna({\"attack_cat\": 'Normal'})"
   ]
  },
  {
   "cell_type": "code",
   "execution_count": 18,
   "metadata": {},
   "outputs": [
    {
     "name": "stdout",
     "output_type": "stream",
     "text": [
      "+--------------+\n",
      "|    attack_cat|\n",
      "+--------------+\n",
      "|         Worms|\n",
      "|     Shellcode|\n",
      "|       Fuzzers|\n",
      "|      Analysis|\n",
      "|           DoS|\n",
      "|Reconnaissance|\n",
      "|      Backdoor|\n",
      "|      Exploits|\n",
      "|        Normal|\n",
      "|       Generic|\n",
      "+--------------+\n",
      "\n"
     ]
    }
   ],
   "source": [
    "df_schem.select('attack_cat').distinct().show()"
   ]
  },
  {
   "cell_type": "code",
   "execution_count": 19,
   "metadata": {},
   "outputs": [],
   "source": [
    "final_data=df_schem.na.drop()"
   ]
  },
  {
   "cell_type": "code",
   "execution_count": 20,
   "metadata": {},
   "outputs": [
    {
     "name": "stdout",
     "output_type": "stream",
     "text": [
      "+-----+-----+---------+------+------+----+----+-----+-----+-------+--------+---------+-----+-----+----+----+-----+-----+-------+-------+-----------+-----------+--------+--------+---------+---------+------+------+------+---------------+------------+----------------+------------+----------+----------+----------+----------+----------+----------------+----------------+--------------+----------+\n",
      "|proto|state|      dur|sbytes|dbytes|sttl|dttl|sloss|dloss|service|   Sload|    Dload|Spkts|Dpkts|swin|dwin|stcpb|dtcpb|smeansz|dmeansz|trans_depth|res_bdy_len|    Sjit|    Djit|  Sintpkt|  Dintpkt|tcprtt|synack|ackdat|is_sm_ips_ports|ct_state_ttl|ct_flw_http_mthd|is_ftp_login|ct_ftp_cmd|ct_srv_src|ct_srv_dst|ct_dst_ltm|ct_src_ltm|ct_src_dport_ltm|ct_dst_sport_ltm|ct_dst_src_ltm|attack_cat|\n",
      "+-----+-----+---------+------+------+----+----+-----+-----+-------+--------+---------+-----+-----+----+----+-----+-----+-------+-------+-----------+-----------+--------+--------+---------+---------+------+------+------+---------------+------------+----------------+------------+----------+----------+----------+----------+----------+----------------+----------------+--------------+----------+\n",
      "|  arp|  CON|34.719738|    56|    92|   0|   0|    0|    0|      -|6.451662|10.599158|    2|    2|   0|   0|    0|    0|     28|     46|          0|          0|     0.0|     0.0|34719.562|34719.574|   0.0|   0.0|   0.0|              0|           0|               0|           0|         0|         2|         2|         2|         2|               2|               2|             2|    Normal|\n",
      "|  arp|  CON|34.719738|    56|    92|   0|   0|    0|    0|      -|6.451662|10.599158|    2|    2|   0|   0|    0|    0|     28|     46|          0|          0|     0.0|     0.0|34719.562|34719.574|   0.0|   0.0|   0.0|              0|           0|               0|           0|         0|         2|         2|         2|         2|               2|               2|             2|    Normal|\n",
      "|  arp|  CON|      0.0|    56|    92|   0|   0|    0|    0|      -|6.746675|11.083822|    2|    2|   0|   0|    0|    0|     28|     46|          0|          0|     0.0|     0.0| 33200.55|33200.527|   0.0|   0.0|   0.0|              0|           0|               0|           0|         0|         2|         2|         2|         2|               2|               2|             2|    Normal|\n",
      "|  arp|  CON|      0.0|    56|    92|   0|   0|    0|    0|      -|6.746675|11.083822|    2|    2|   0|   0|    0|    0|     28|     46|          0|          0|     0.0|     0.0| 33200.55|33200.527|   0.0|   0.0|   0.0|              0|           0|               0|           0|         0|         2|         2|         2|         2|               2|               2|             2|    Normal|\n",
      "|  arp|  INT|      0.0|    46|     0|   0|   0|    0|    0|      -|     0.0|      0.0|    1|    0|   0|   0|    0|    0|     46|      0|          0|          0|     0.0|     0.0|      0.0|      0.0|   0.0|   0.0|   0.0|              1|           2|               0|           0|         0|         2|         2|         2|         2|               2|               2|             2|    Normal|\n",
      "|  arp|  INT|      0.0|    46|     0|   0|   0|    0|    0|      -|     0.0|      0.0|    1|    0|   0|   0|    0|    0|     46|      0|          0|          0|     0.0|     0.0|      0.0|      0.0|   0.0|   0.0|   0.0|              1|           2|               0|           0|         0|         2|         2|         2|         2|               2|               2|             2|    Normal|\n",
      "|  arp|  INT|      0.0|    46|     0|   0|   0|    0|    0|      -|     0.0|      0.0|    1|    0|   0|   0|    0|    0|     46|      0|          0|          0|     0.0|     0.0|      0.0|      0.0|   0.0|   0.0|   0.0|              1|           2|               0|           0|         0|         2|         2|         2|         2|               2|               2|             2|    Normal|\n",
      "|  arp|  INT|      0.0|    46|     0|   0|   0|    0|    0|      -|     0.0|      0.0|    1|    0|   0|   0|    0|    0|     46|      0|          0|          0|     0.0|     0.0|      0.0|      0.0|   0.0|   0.0|   0.0|              1|           2|               0|           0|         0|         2|         2|         2|         2|               2|               2|             2|    Normal|\n",
      "|  arp|  CON|      0.0|    56|    92|   0|   0|    0|    0|      -|5.445286| 8.945827|    2|    2|   0|   0|    0|    0|     28|     46|          0|          0|9.070334|     0.0| 41135.48|41135.477|   0.0|   0.0|   0.0|              0|           0|               0|           0|         0|         2|         2|         2|         2|               2|               2|             2|    Normal|\n",
      "|  arp|  CON|      0.0|    56|    92|   0|   0|    0|    0|      -|5.445286| 8.945827|    2|    2|   0|   0|    0|    0|     28|     46|          0|          0|9.070334|     0.0| 41135.48|41135.477|   0.0|   0.0|   0.0|              0|           0|               0|           0|         0|         2|         2|         2|         2|               2|               2|             2|    Normal|\n",
      "|  arp|  INT|      0.0|    46|     0|   0|   0|    0|    0|      -|     0.0|      0.0|    1|    0|   0|   0|    0|    0|     46|      0|          0|          0|     0.0|     0.0| 60000.43|      0.0|   0.0|   0.0|   0.0|              1|           2|               0|           0|         0|         1|         1|         1|         1|               1|               1|             1|    Normal|\n",
      "|  arp|  INT|      0.0|    46|     0|   0|   0|    0|    0|      -|     0.0|      0.0|    1|    0|   0|   0|    0|    0|     46|      0|          0|          0|     0.0|     0.0|60000.426|      0.0|   0.0|   0.0|   0.0|              1|           2|               0|           0|         0|         2|         2|         2|         2|               2|               2|             2|    Normal|\n",
      "|  arp|  INT|      0.0|    46|     0|   0|   0|    0|    0|      -|     0.0|      0.0|    1|    0|   0|   0|    0|    0|     46|      0|          0|          0|     0.0|     0.0| 60000.43|      0.0|   0.0|   0.0|   0.0|              1|           2|               0|           0|         0|         1|         1|         1|         1|               1|               1|             1|    Normal|\n",
      "|  arp|  INT|      0.0|    46|     0|   0|   0|    0|    0|      -|     0.0|      0.0|    1|    0|   0|   0|    0|    0|     46|      0|          0|          0|     0.0|     0.0|60000.426|      0.0|   0.0|   0.0|   0.0|              1|           2|               0|           0|         0|         2|         2|         2|         2|               2|               2|             2|    Normal|\n",
      "|  arp|  CON|41.996693|    56|    92|   0|   0|    0|    0|      -|5.333753| 8.762595|    2|    2|   0|   0|    0|    0|     28|     46|          0|          0|     0.0|7.380484|41992.965|41992.984|   0.0|   0.0|   0.0|              0|           0|               0|           0|         0|         2|         2|         2|         2|               2|               2|             2|    Normal|\n",
      "|  arp|  CON|41.996693|    56|    92|   0|   0|    0|    0|      -|5.333753| 8.762595|    2|    2|   0|   0|    0|    0|     28|     46|          0|          0|     0.0|7.380484|41992.965|41992.984|   0.0|   0.0|   0.0|              0|           0|               0|           0|         0|         2|         2|         2|         2|               2|               2|             2|    Normal|\n",
      "|  arp|  CON|40.118523|    56|    92|   0|   0|    0|    0|      -|5.583456|  9.17282|    2|    2|   0|   0|    0|    0|     28|     46|          0|          0|     0.0|     0.0|40117.496|40117.492|   0.0|   0.0|   0.0|              0|           0|               0|           0|         0|         2|         2|         2|         2|               2|               2|             2|    Normal|\n",
      "|  arp|  CON|40.118523|    56|    92|   0|   0|    0|    0|      -|5.583456|  9.17282|    2|    2|   0|   0|    0|    0|     28|     46|          0|          0|     0.0|     0.0|40117.496|40117.492|   0.0|   0.0|   0.0|              0|           0|               0|           0|         0|         2|         2|         2|         2|               2|               2|             2|    Normal|\n",
      "|  arp|  CON|38.426678|    56|    92|   0|   0|    0|    0|      -|5.829284|  9.57668|    2|    2|   0|   0|    0|    0|     28|     46|          0|          0|     0.0|8.766584|38426.516|  38426.5|   0.0|   0.0|   0.0|              0|           0|               0|           0|         0|         2|         2|         2|         2|               2|               2|             2|    Normal|\n",
      "|  arp|  CON|38.426678|    56|    92|   0|   0|    0|    0|      -|5.829284|  9.57668|    2|    2|   0|   0|    0|    0|     28|     46|          0|          0|     0.0|8.766584|38426.516|  38426.5|   0.0|   0.0|   0.0|              0|           0|               0|           0|         0|         2|         2|         2|         2|               2|               2|             2|    Normal|\n",
      "+-----+-----+---------+------+------+----+----+-----+-----+-------+--------+---------+-----+-----+----+----+-----+-----+-------+-------+-----------+-----------+--------+--------+---------+---------+------+------+------+---------------+------------+----------------+------------+----------+----------+----------+----------+----------+----------------+----------------+--------------+----------+\n",
      "only showing top 20 rows\n",
      "\n"
     ]
    }
   ],
   "source": [
    "final_data.show()"
   ]
  },
  {
   "cell_type": "code",
   "execution_count": 21,
   "metadata": {
    "scrolled": true
   },
   "outputs": [
    {
     "name": "stdout",
     "output_type": "stream",
     "text": [
      "+-----------------+-----------------+------------------+--------------------+------------------+\n",
      "|              dur|           dbytes|              sttl|                dttl|    ct_dst_src_ltm|\n",
      "+-----------------+-----------------+------------------+--------------------+------------------+\n",
      "|           225994|           225994|            225994|              225994|            225994|\n",
      "|0.407434248147434|1.112348115436693|245.32343779038382|0.009230333548678284|26.790277617989858|\n",
      "|4.150830810875402|  9.9111587016314| 46.05972276367919|   0.952028783949515|12.612631599831502|\n",
      "|              0.0|                0|                 0|                   0|                 1|\n",
      "|           4.0E-6|                0|               254|                   0|                18|\n",
      "|           8.0E-6|                0|               254|                   0|                28|\n",
      "|           9.0E-6|                0|               254|                   0|                36|\n",
      "|         59.99999|              126|               255|                 252|                67|\n",
      "+-----------------+-----------------+------------------+--------------------+------------------+\n",
      "\n"
     ]
    }
   ],
   "source": [
    "final_data.summary().select(\"dur\", \"dbytes\", \"sttl\", \"dttl\", \"ct_dst_src_ltm\").show()"
   ]
  },
  {
   "cell_type": "code",
   "execution_count": 22,
   "metadata": {},
   "outputs": [],
   "source": [
    "from pyspark.ml.feature import(VectorAssembler, VectorIndexer, OneHotEncoder, StringIndexer)"
   ]
  },
  {
   "cell_type": "code",
   "execution_count": 23,
   "metadata": {},
   "outputs": [],
   "source": [
    "attack_indexer = StringIndexer(inputCol='attack_cat', outputCol = 'AttackIndex')\n",
    "\n",
    "# ONE HOT ENCODING\n",
    "                               \n",
    "attack_encoder = OneHotEncoder(inputCol='AttackIndex', outputCol = 'attack_catVec')"
   ]
  },
  {
   "cell_type": "code",
   "execution_count": 24,
   "metadata": {},
   "outputs": [],
   "source": [
    "proto_indexer = StringIndexer(inputCol='proto', outputCol = 'protoIndex')\n",
    "proto_encoder = OneHotEncoder(inputCol='protoIndex', outputCol = 'protoVec')"
   ]
  },
  {
   "cell_type": "code",
   "execution_count": 25,
   "metadata": {},
   "outputs": [],
   "source": [
    "state_indexer = StringIndexer(inputCol='state', outputCol = 'stateIndex')\n",
    "                              \n",
    "state_encoder = OneHotEncoder(inputCol='stateIndex', outputCol = 'stateVec')"
   ]
  },
  {
   "cell_type": "code",
   "execution_count": 26,
   "metadata": {},
   "outputs": [],
   "source": [
    "service_indexer = StringIndexer(inputCol='service', outputCol = 'serviceIndex')\n",
    "                              \n",
    "service_encoder = OneHotEncoder(inputCol='serviceIndex', outputCol = 'serviceVec')"
   ]
  },
  {
   "cell_type": "code",
   "execution_count": 31,
   "metadata": {},
   "outputs": [],
   "source": [
    "assembler = VectorAssembler(inputCols=['protoIndex', 'stateIndex', 'dur', 'sbytes', 'dbytes', 'sttl', 'dttl', 'sloss', 'dloss', 'serviceIndex', 'Sload', 'Dload', 'Spkts', 'Dpkts', 'swin', 'dwin', 'stcpb', 'dtcpb', 'smeansz', 'dmeansz', 'trans_depth', 'res_bdy_len', 'Sjit', 'Djit', 'Sintpkt', 'Dintpkt', 'tcprtt', 'synack', 'ackdat', 'is_sm_ips_ports', 'ct_state_ttl', 'ct_flw_http_mthd', 'is_ftp_login', 'ct_ftp_cmd', 'ct_srv_src', 'ct_srv_dst', 'ct_dst_ltm', 'ct_src_ltm', 'ct_src_dport_ltm', 'ct_dst_sport_ltm', 'ct_dst_src_ltm'], outputCol='features')"
   ]
  },
  {
   "cell_type": "code",
   "execution_count": 32,
   "metadata": {},
   "outputs": [],
   "source": [
    "from pyspark.ml.classification import LogisticRegression\n",
    "from pyspark.ml import Pipeline"
   ]
  },
  {
   "cell_type": "code",
   "execution_count": 33,
   "metadata": {},
   "outputs": [],
   "source": [
    "log_reg_UNSW = LogisticRegression(featuresCol = 'features', labelCol = 'AttackIndex')"
   ]
  },
  {
   "cell_type": "code",
   "execution_count": 34,
   "metadata": {},
   "outputs": [],
   "source": [
    "pipeline = Pipeline(stages = [attack_indexer, proto_indexer, state_indexer, service_indexer, attack_encoder, proto_encoder, state_encoder, service_encoder, assembler, log_reg_UNSW])"
   ]
  },
  {
   "cell_type": "code",
   "execution_count": 37,
   "metadata": {},
   "outputs": [],
   "source": [
    "train_data, test_data = final_data.randomSplit([0.7,0.3], seed =2018)"
   ]
  },
  {
   "cell_type": "code",
   "execution_count": 38,
   "metadata": {},
   "outputs": [],
   "source": [
    "fit_model = pipeline.fit(train_data)"
   ]
  },
  {
   "cell_type": "code",
   "execution_count": 39,
   "metadata": {},
   "outputs": [],
   "source": [
    "result = fit_model.transform(test_data)"
   ]
  },
  {
   "cell_type": "code",
   "execution_count": 40,
   "metadata": {},
   "outputs": [
    {
     "name": "stdout",
     "output_type": "stream",
     "text": [
      "+-----+-----+------+------+------+----+----+-----+-----+-------+-----------+-----------+-----+-----+----+----+-----+-----+-------+-------+-----------+-----------+---------+---------+---------+---------+------+------+------+---------------+------------+----------------+------------+----------+----------+----------+----------+----------+----------------+----------------+--------------+----------+-----------+----------+----------+------------+-------------+--------------+--------------+-------------+--------------------+--------------------+--------------------+----------+\n",
      "|proto|state|   dur|sbytes|dbytes|sttl|dttl|sloss|dloss|service|      Sload|      Dload|Spkts|Dpkts|swin|dwin|stcpb|dtcpb|smeansz|dmeansz|trans_depth|res_bdy_len|     Sjit|     Djit|  Sintpkt|  Dintpkt|tcprtt|synack|ackdat|is_sm_ips_ports|ct_state_ttl|ct_flw_http_mthd|is_ftp_login|ct_ftp_cmd|ct_srv_src|ct_srv_dst|ct_dst_ltm|ct_src_ltm|ct_src_dport_ltm|ct_dst_sport_ltm|ct_dst_src_ltm|attack_cat|AttackIndex|protoIndex|stateIndex|serviceIndex|attack_catVec|      protoVec|      stateVec|   serviceVec|            features|       rawPrediction|         probability|prediction|\n",
      "+-----+-----+------+------+------+----+----+-----+-----+-------+-----------+-----------+-----+-----+----+----+-----+-----+-------+-------+-----------+-----------+---------+---------+---------+---------+------+------+------+---------------+------------+----------------+------------+----------+----------+----------+----------+----------+----------------+----------------+--------------+----------+-----------+----------+----------+------------+-------------+--------------+--------------+-------------+--------------------+--------------------+--------------------+----------+\n",
      "|  arp|  CON|   0.0|    28|    46|   0|   0|    0|    0|      -|        0.0|        0.0|    1|    1|   0|   0|    0|    0|     28|     46|          0|          0|      0.0|      0.0|      0.0|      0.0|   0.0|   0.0|   0.0|              0|           0|               0|           0|         0|         2|         2|         2|         2|               2|               2|             2|    Normal|        1.0|       1.0|       1.0|         1.0|(9,[1],[1.0])|(11,[1],[1.0])|(11,[1],[1.0])|(4,[1],[1.0])|(41,[0,1,3,4,9,12...|[-13.993820163448...|[1.82053738638467...|       1.0|\n",
      "|  arp|  CON|   0.0|    56|    92|   0|   0|    0|    0|      -|   4.595972|   7.550525|    2|    2|   0|   0|    0|    0|     28|     46|          0|          0|13.962435|      0.0| 48737.39|48737.395|   0.0|   0.0|   0.0|              0|           0|               0|           0|         0|         2|         2|         2|         2|               2|               2|             2|    Normal|        1.0|       1.0|       1.0|         1.0|(9,[1],[1.0])|(11,[1],[1.0])|(11,[1],[1.0])|(4,[1],[1.0])|(41,[0,1,3,4,9,10...|[-26.936675957730...|[5.51144202566132...|       1.0|\n",
      "|  arp|  CON|   0.0|    56|    92|   0|   0|    0|    0|      -|   4.596039|   7.550635|    2|    2|   0|   0|    0|    0|     28|     46|          0|          0|      0.0| 9.872852|48737.402|48736.598|   0.0|   0.0|   0.0|              0|           0|               0|           0|         0|         2|         2|         2|         2|               2|               2|             2|    Normal|        1.0|       1.0|       1.0|         1.0|(9,[1],[1.0])|(11,[1],[1.0])|(11,[1],[1.0])|(4,[1],[1.0])|(41,[0,1,3,4,9,10...|[-26.936647192558...|[5.50563337509670...|       1.0|\n",
      "|  arp|  CON|   0.0|    56|    92|   0|   0|    0|    0|      -|   5.445286|   8.945827|    2|    2|   0|   0|    0|    0|     28|     46|          0|          0| 9.070334|      0.0| 41135.48|41135.477|   0.0|   0.0|   0.0|              0|           0|               0|           0|         0|         2|         2|         2|         2|               2|               2|             2|    Normal|        1.0|       1.0|       1.0|         1.0|(9,[1],[1.0])|(11,[1],[1.0])|(11,[1],[1.0])|(4,[1],[1.0])|(41,[0,1,3,4,9,10...|[-25.858529616552...|[5.77235447826696...|       1.0|\n",
      "|  arp|  CON|   0.0|    56|    92|   0|   0|    0|    0|      -|   5.607929|   9.213026|    2|    2|   0|   0|    0|    0|     28|     46|          0|          0|      0.0|      0.0|39942.453| 39942.44|   0.0|   0.0|   0.0|              0|           0|               0|           0|         0|         2|         2|         2|         2|               2|               2|             2|    Normal|        1.0|       1.0|       1.0|         1.0|(9,[1],[1.0])|(11,[1],[1.0])|(11,[1],[1.0])|(4,[1],[1.0])|(41,[0,1,3,4,9,10...|[-25.687974436743...|[8.36297863154498...|       1.0|\n",
      "|  arp|  CON|   0.0|    56|    92|   0|   0|    0|    0|      -|   6.746675|  11.083822|    2|    2|   0|   0|    0|    0|     28|     46|          0|          0|      0.0|      0.0| 33200.55|33200.527|   0.0|   0.0|   0.0|              0|           0|               0|           0|         0|         2|         2|         2|         2|               2|               2|             2|    Normal|        1.0|       1.0|       1.0|         1.0|(9,[1],[1.0])|(11,[1],[1.0])|(11,[1],[1.0])|(4,[1],[1.0])|(41,[0,1,3,4,9,10...|[-24.732506085157...|[6.70758913673075...|       1.0|\n",
      "|  arp|  CON|1.3E-5|    46|    28|   0|   0|    0|    0|      -|        0.0|        0.0|    1|    1|   0|   0|    0|    0|     46|     28|          0|          0|      0.0|      0.0|      0.0|      0.0|   0.0|   0.0|   0.0|              0|           0|               0|           0|         0|         1|         1|         1|         1|               1|               1|             1|    Normal|        1.0|       1.0|       1.0|         1.0|(9,[1],[1.0])|(11,[1],[1.0])|(11,[1],[1.0])|(4,[1],[1.0])|(41,[0,1,2,3,4,9,...|[-13.752862131899...|[1.88058791814217...|       1.0|\n",
      "|  arp|  CON|1.6E-5|    46|    28|   0|   0|    0|    0|      -|        0.0|        0.0|    1|    1|   0|   0|    0|    0|     46|     28|          0|          0|      0.0|      0.0|      0.0|      0.0|   0.0|   0.0|   0.0|              0|           0|               0|           0|         0|         1|         2|         1|         1|               1|               1|             1|    Normal|        1.0|       1.0|       1.0|         1.0|(9,[1],[1.0])|(11,[1],[1.0])|(11,[1],[1.0])|(4,[1],[1.0])|(41,[0,1,2,3,4,9,...|[-13.690689818640...|[1.76575889020458...|       1.0|\n",
      "|  arp|  CON|1.7E-5|    46|    28|   0|   0|    0|    0|      -|        0.0|        0.0|    1|    1|   0|   0|    0|    0|     46|     28|          0|          0|      0.0|      0.0|      0.0|      0.0|   0.0|   0.0|   0.0|              0|           0|               0|           0|         0|         1|         1|         1|         1|               1|               1|             1|    Normal|        1.0|       1.0|       1.0|         1.0|(9,[1],[1.0])|(11,[1],[1.0])|(11,[1],[1.0])|(4,[1],[1.0])|(41,[0,1,2,3,4,9,...|[-13.752862406036...|[1.88058675480990...|       1.0|\n",
      "|  arp|  CON|1.7E-5|    46|    28|   0|   0|    0|    0|      -|        0.0|        0.0|    1|    1|   0|   0|    0|    0|     46|     28|          0|          0|      0.0|      0.0|      0.0|      0.0|   0.0|   0.0|   0.0|              0|           0|               0|           0|         0|         1|         2|         1|         1|               1|               1|             1|    Normal|        1.0|       1.0|       1.0|         1.0|(9,[1],[1.0])|(11,[1],[1.0])|(11,[1],[1.0])|(4,[1],[1.0])|(41,[0,1,2,3,4,9,...|[-13.690689887174...|[1.76575861712970...|       1.0|\n",
      "|  arp|  CON|1.8E-5|    46|    28|   0|   0|    0|    0|      -|        0.0|        0.0|    1|    1|   0|   0|    0|    0|     46|     28|          0|          0|      0.0|      0.0|      0.0|      0.0|   0.0|   0.0|   0.0|              0|           0|               0|           0|         0|         1|         1|         1|         1|               1|               1|             1|    Normal|        1.0|       1.0|       1.0|         1.0|(9,[1],[1.0])|(11,[1],[1.0])|(11,[1],[1.0])|(4,[1],[1.0])|(41,[0,1,2,3,4,9,...|[-13.752862474571...|[1.88058646397688...|       1.0|\n",
      "|  arp|  CON|1.8E-5|    92|    56|   0|   0|    0|    0|      -|2.0444444E7|1.2444444E7|    2|    2|   0|   0|    0|    0|     46|     28|          0|          0|15539.945|15539.953| 15539.96| 15539.96|   0.0|   0.0|   0.0|              0|           0|               0|           0|         0|         1|         2|         1|         1|               1|               1|             1|    Normal|        1.0|       1.0|       1.0|         1.0|(9,[1],[1.0])|(11,[1],[1.0])|(11,[1],[1.0])|(4,[1],[1.0])|(41,[0,1,2,3,4,9,...|[-31.200246908352...|[1.72293302611690...|       1.0|\n",
      "|  arp|  CON|2.0E-5|    46|    28|   0|   0|    0|    0|      -|        0.0|        0.0|    1|    1|   0|   0|    0|    0|     46|     28|          0|          0|      0.0|      0.0|      0.0|      0.0|   0.0|   0.0|   0.0|              0|           0|               0|           0|         0|         1|         1|         1|         1|               1|               1|             1|    Normal|        1.0|       1.0|       1.0|         1.0|(9,[1],[1.0])|(11,[1],[1.0])|(11,[1],[1.0])|(4,[1],[1.0])|(41,[0,1,2,3,4,9,...|[-13.752862611639...|[1.88058588231150...|       1.0|\n",
      "|  arp|  CON|2.0E-5|    46|    28|   0|   0|    0|    0|      -|        0.0|        0.0|    1|    1|   0|   0|    0|    0|     46|     28|          0|          0|      0.0|      0.0|      0.0|      0.0|   0.0|   0.0|   0.0|              0|           0|               0|           0|         0|         1|         1|         1|         1|               1|               1|             1|    Normal|        1.0|       1.0|       1.0|         1.0|(9,[1],[1.0])|(11,[1],[1.0])|(11,[1],[1.0])|(4,[1],[1.0])|(41,[0,1,2,3,4,9,...|[-13.752862611639...|[1.88058588231150...|       1.0|\n",
      "|  arp|  CON|2.0E-5|    46|    28|   0|   0|    0|    0|      -|        0.0|        0.0|    1|    1|   0|   0|    0|    0|     46|     28|          0|          0|      0.0|      0.0|      0.0|      0.0|   0.0|   0.0|   0.0|              0|           0|               0|           0|         0|         1|         1|         1|         1|               1|               1|             1|    Normal|        1.0|       1.0|       1.0|         1.0|(9,[1],[1.0])|(11,[1],[1.0])|(11,[1],[1.0])|(4,[1],[1.0])|(41,[0,1,2,3,4,9,...|[-13.752862611639...|[1.88058588231150...|       1.0|\n",
      "|  arp|  CON|2.1E-5|    46|    28|   0|   0|    0|    0|      -|        0.0|        0.0|    1|    1|   0|   0|    0|    0|     46|     28|          0|          0|      0.0|      0.0|      0.0|      0.0|   0.0|   0.0|   0.0|              0|           0|               0|           0|         0|         1|         1|         1|         1|               1|               1|             1|    Normal|        1.0|       1.0|       1.0|         1.0|(9,[1],[1.0])|(11,[1],[1.0])|(11,[1],[1.0])|(4,[1],[1.0])|(41,[0,1,2,3,4,9,...|[-13.752862680174...|[1.88058559147862...|       1.0|\n",
      "|  arp|  CON|2.1E-5|    46|    28|   0|   0|    0|    0|      -|        0.0|        0.0|    1|    1|   0|   0|    0|    0|     46|     28|          0|          0|      0.0|      0.0|      0.0|      0.0|   0.0|   0.0|   0.0|              0|           0|               0|           0|         0|         1|         1|         1|         1|               1|               1|             1|    Normal|        1.0|       1.0|       1.0|         1.0|(9,[1],[1.0])|(11,[1],[1.0])|(11,[1],[1.0])|(4,[1],[1.0])|(41,[0,1,2,3,4,9,...|[-13.752862680174...|[1.88058559147862...|       1.0|\n",
      "|  arp|  CON|2.1E-5|    46|    28|   0|   0|    0|    0|      -|        0.0|        0.0|    1|    1|   0|   0|    0|    0|     46|     28|          0|          0|      0.0|      0.0|      0.0|      0.0|   0.0|   0.0|   0.0|              0|           0|               0|           0|         0|         1|         1|         1|         1|               1|               1|             1|    Normal|        1.0|       1.0|       1.0|         1.0|(9,[1],[1.0])|(11,[1],[1.0])|(11,[1],[1.0])|(4,[1],[1.0])|(41,[0,1,2,3,4,9,...|[-13.752862680174...|[1.88058559147862...|       1.0|\n",
      "|  arp|  CON|2.1E-5|    46|    28|   0|   0|    0|    0|      -|        0.0|        0.0|    1|    1|   0|   0|    0|    0|     46|     28|          0|          0|      0.0|      0.0|      0.0|      0.0|   0.0|   0.0|   0.0|              0|           0|               0|           0|         0|         2|         1|         1|         2|               1|               1|             1|    Normal|        1.0|       1.0|       1.0|         1.0|(9,[1],[1.0])|(11,[1],[1.0])|(11,[1],[1.0])|(4,[1],[1.0])|(41,[0,1,2,3,4,9,...|[-13.671077683596...|[1.93235153830096...|       1.0|\n",
      "|  arp|  CON|2.1E-5|    46|    28|   0|   0|    0|    0|      -|        0.0|        0.0|    1|    1|   0|   0|    0|    0|     46|     28|          0|          0|      0.0|11.832383|35001.312| 35001.32|   0.0|   0.0|   0.0|              0|           0|               0|           0|         0|         1|         1|         1|         1|               1|               1|             1|    Normal|        1.0|       1.0|       1.0|         1.0|(9,[1],[1.0])|(11,[1],[1.0])|(11,[1],[1.0])|(4,[1],[1.0])|(41,[0,1,2,3,4,9,...|[-18.716039816166...|[3.78053893235443...|       1.0|\n",
      "+-----+-----+------+------+------+----+----+-----+-----+-------+-----------+-----------+-----+-----+----+----+-----+-----+-------+-------+-----------+-----------+---------+---------+---------+---------+------+------+------+---------------+------------+----------------+------------+----------+----------+----------+----------+----------+----------------+----------------+--------------+----------+-----------+----------+----------+------------+-------------+--------------+--------------+-------------+--------------------+--------------------+--------------------+----------+\n",
      "only showing top 20 rows\n",
      "\n"
     ]
    }
   ],
   "source": [
    "result.show()"
   ]
  },
  {
   "cell_type": "code",
   "execution_count": 41,
   "metadata": {},
   "outputs": [
    {
     "data": {
      "text/plain": [
       "158462"
      ]
     },
     "execution_count": 41,
     "metadata": {},
     "output_type": "execute_result"
    }
   ],
   "source": [
    "train_data.count()"
   ]
  },
  {
   "cell_type": "code",
   "execution_count": 42,
   "metadata": {},
   "outputs": [
    {
     "data": {
      "text/plain": [
       "67532"
      ]
     },
     "execution_count": 42,
     "metadata": {},
     "output_type": "execute_result"
    }
   ],
   "source": [
    "test_data.count()"
   ]
  },
  {
   "cell_type": "code",
   "execution_count": 43,
   "metadata": {},
   "outputs": [],
   "source": [
    "from pyspark.ml.evaluation import MulticlassClassificationEvaluator"
   ]
  },
  {
   "cell_type": "code",
   "execution_count": 44,
   "metadata": {},
   "outputs": [],
   "source": [
    "my_eval =MulticlassClassificationEvaluator(predictionCol='prediction', labelCol = 'AttackIndex', metricName=\"accuracy\")"
   ]
  },
  {
   "cell_type": "code",
   "execution_count": 54,
   "metadata": {
    "scrolled": true
   },
   "outputs": [
    {
     "name": "stdout",
     "output_type": "stream",
     "text": [
      "+----------+--------------------+-------------+-----------+------------+\n",
      "|prediction|            features|attack_catVec|attackindex|is_ftp_login|\n",
      "+----------+--------------------+-------------+-----------+------------+\n",
      "|       1.0|(41,[0,1,3,4,9,12...|(9,[1],[1.0])|        1.0|           0|\n",
      "|       1.0|(41,[0,1,3,4,9,10...|(9,[1],[1.0])|        1.0|           0|\n",
      "|       1.0|(41,[0,1,3,4,9,10...|(9,[1],[1.0])|        1.0|           0|\n",
      "|       1.0|(41,[0,1,3,4,9,10...|(9,[1],[1.0])|        1.0|           0|\n",
      "|       1.0|(41,[0,1,3,4,9,10...|(9,[1],[1.0])|        1.0|           0|\n",
      "|       1.0|(41,[0,1,3,4,9,10...|(9,[1],[1.0])|        1.0|           0|\n",
      "|       1.0|(41,[0,1,2,3,4,9,...|(9,[1],[1.0])|        1.0|           0|\n",
      "|       1.0|(41,[0,1,2,3,4,9,...|(9,[1],[1.0])|        1.0|           0|\n",
      "|       1.0|(41,[0,1,2,3,4,9,...|(9,[1],[1.0])|        1.0|           0|\n",
      "|       1.0|(41,[0,1,2,3,4,9,...|(9,[1],[1.0])|        1.0|           0|\n",
      "|       1.0|(41,[0,1,2,3,4,9,...|(9,[1],[1.0])|        1.0|           0|\n",
      "|       1.0|(41,[0,1,2,3,4,9,...|(9,[1],[1.0])|        1.0|           0|\n",
      "|       1.0|(41,[0,1,2,3,4,9,...|(9,[1],[1.0])|        1.0|           0|\n",
      "|       1.0|(41,[0,1,2,3,4,9,...|(9,[1],[1.0])|        1.0|           0|\n",
      "|       1.0|(41,[0,1,2,3,4,9,...|(9,[1],[1.0])|        1.0|           0|\n",
      "|       1.0|(41,[0,1,2,3,4,9,...|(9,[1],[1.0])|        1.0|           0|\n",
      "|       1.0|(41,[0,1,2,3,4,9,...|(9,[1],[1.0])|        1.0|           0|\n",
      "|       1.0|(41,[0,1,2,3,4,9,...|(9,[1],[1.0])|        1.0|           0|\n",
      "|       1.0|(41,[0,1,2,3,4,9,...|(9,[1],[1.0])|        1.0|           0|\n",
      "|       1.0|(41,[0,1,2,3,4,9,...|(9,[1],[1.0])|        1.0|           0|\n",
      "+----------+--------------------+-------------+-----------+------------+\n",
      "only showing top 20 rows\n",
      "\n"
     ]
    }
   ],
   "source": [
    "result.select('prediction','features','attack_catVec','attackindex','is_ftp_login').show()"
   ]
  },
  {
   "cell_type": "code",
   "execution_count": 55,
   "metadata": {},
   "outputs": [],
   "source": [
    "Accuracy= my_eval.evaluate(result)"
   ]
  },
  {
   "cell_type": "code",
   "execution_count": 56,
   "metadata": {},
   "outputs": [
    {
     "data": {
      "text/plain": [
       "0.9858881715334953"
      ]
     },
     "execution_count": 56,
     "metadata": {},
     "output_type": "execute_result"
    }
   ],
   "source": [
    "Accuracy"
   ]
  },
  {
   "cell_type": "code",
   "execution_count": 57,
   "metadata": {},
   "outputs": [
    {
     "name": "stdout",
     "output_type": "stream",
     "text": [
      "+-----------+----------+\n",
      "|attackindex|prediction|\n",
      "+-----------+----------+\n",
      "|        1.0|       1.0|\n",
      "|        1.0|       1.0|\n",
      "|        1.0|       1.0|\n",
      "|        1.0|       1.0|\n",
      "|        1.0|       1.0|\n",
      "|        1.0|       1.0|\n",
      "|        1.0|       1.0|\n",
      "|        1.0|       1.0|\n",
      "|        1.0|       1.0|\n",
      "|        1.0|       1.0|\n",
      "|        1.0|       1.0|\n",
      "|        1.0|       1.0|\n",
      "|        1.0|       1.0|\n",
      "|        1.0|       1.0|\n",
      "|        1.0|       1.0|\n",
      "|        1.0|       1.0|\n",
      "|        1.0|       1.0|\n",
      "|        1.0|       1.0|\n",
      "|        1.0|       1.0|\n",
      "|        1.0|       1.0|\n",
      "+-----------+----------+\n",
      "only showing top 20 rows\n",
      "\n"
     ]
    }
   ],
   "source": [
    "result.select('attackindex','prediction').show()"
   ]
  },
  {
   "cell_type": "code",
   "execution_count": null,
   "metadata": {},
   "outputs": [],
   "source": []
  }
 ],
 "metadata": {
  "kernelspec": {
   "display_name": "Python 3",
   "language": "python",
   "name": "python3"
  },
  "language_info": {
   "codemirror_mode": {
    "name": "ipython",
    "version": 3
   },
   "file_extension": ".py",
   "mimetype": "text/x-python",
   "name": "python",
   "nbconvert_exporter": "python",
   "pygments_lexer": "ipython3",
   "version": "3.7.4"
  }
 },
 "nbformat": 4,
 "nbformat_minor": 2
}
