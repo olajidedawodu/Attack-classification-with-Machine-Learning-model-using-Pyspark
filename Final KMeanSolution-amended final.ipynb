{
 "cells": [
  {
   "cell_type": "code",
   "execution_count": 1,
   "metadata": {},
   "outputs": [
    {
     "name": "stdout",
     "output_type": "stream",
     "text": [
      "Note: you may need to restart the kernel to use updated packages.\n"
     ]
    }
   ],
   "source": [
    "pip install -q findspark"
   ]
  },
  {
   "cell_type": "code",
   "execution_count": 2,
   "metadata": {},
   "outputs": [],
   "source": [
    "import findspark\n",
    "findspark.init('/home/bigdata/Documents/spark-3.0.0')"
   ]
  },
  {
   "cell_type": "code",
   "execution_count": 3,
   "metadata": {},
   "outputs": [],
   "source": [
    "import pandas as pd\n",
    "import numpy as np\n",
    "from pyspark.sql.session import SparkSession\n",
    "import matplotlib.pyplot as plt\n",
    "import os\n",
    "import pyspark\n",
    "from sklearn.utils import shuffle\n",
    "import pyspark.sql.functions as f\n",
    "import pickle"
   ]
  },
  {
   "cell_type": "code",
   "execution_count": 4,
   "metadata": {},
   "outputs": [],
   "source": [
    "spark = SparkSession.builder.appName('mykmean').getOrCreate()"
   ]
  },
  {
   "cell_type": "code",
   "execution_count": 5,
   "metadata": {},
   "outputs": [],
   "source": [
    "from pyspark.sql.types import StructType\n",
    "from pyspark.sql.types import StringType\n",
    "from pyspark.sql.types import IntegerType\n",
    "from pyspark.sql.types import ByteType\n",
    "from pyspark.sql.types import FloatType\n",
    "from pyspark.sql.types import BinaryType\n",
    "from pyspark.sql.types import DataType\n",
    "from pyspark.sql.types import StructField\n",
    "from pyspark.sql.types import Row\n",
    "\n",
    "\n",
    "schema = StructType([ StructField(\"srcip\", StringType(), True),   \n",
    "    StructField(\"sport\", IntegerType(), True),  \n",
    "    StructField(\"dstip\", StringType(), True),   \n",
    "    StructField(\"dsport\", IntegerType(), True), \n",
    "    StructField(\"proto\", StringType(), True),  \n",
    "    StructField(\"state\", StringType(), True),\n",
    "    StructField(\"dur\", FloatType(), True),       \n",
    "    StructField(\"sbytes\", ByteType(), True),    \n",
    "    StructField(\"dbytes\", ByteType(), True),    \n",
    "    StructField(\"sttl\", IntegerType(), True), \n",
    "    StructField(\"dttl\", IntegerType(), True),   \n",
    "    StructField(\"sloss\", IntegerType(), True),\n",
    "    StructField(\"dloss\", IntegerType(), True),\n",
    "    StructField(\"service\", StringType(), True),    \n",
    "    StructField(\"Sload\", FloatType(), True),  \n",
    "    StructField(\"Dload\", FloatType(), True), \n",
    "    StructField(\"Spkts\", IntegerType(), True),    \n",
    "    StructField(\"Dpkts\", IntegerType(), True),    \n",
    "    StructField(\"swin\", IntegerType(), True),\n",
    "    StructField(\"dwin\", IntegerType(), True), \n",
    "    StructField(\"stcpb\", IntegerType(), True),  \n",
    "    StructField(\"dtcpb\", IntegerType(), True),    \n",
    "    StructField(\"smeansz\", IntegerType(), True),   \n",
    "    StructField(\"dmeansz\", IntegerType(), True),  \n",
    "    StructField(\"trans_depth\", IntegerType(), True),  \n",
    "    StructField(\"res_bdy_len\", IntegerType(), True),    \n",
    "    StructField(\"Sjit\", FloatType(), True),    \n",
    "    StructField(\"Djit\", FloatType(), True),     \n",
    "    StructField(\"Stime\", IntegerType(), True), \n",
    "    StructField(\"Ltime\", IntegerType(), True),   \n",
    "    StructField(\"Sintpkt\", FloatType(), True),\n",
    "    StructField(\"Dintpkt\", FloatType(), True),    \n",
    "    StructField(\"tcprtt\", FloatType(), True),  \n",
    "    StructField(\"synack\", FloatType(), True),    \n",
    "    StructField(\"ackdat\", FloatType(), True),  \n",
    "    StructField(\"is_sm_ips_ports\", IntegerType(), True),    \n",
    "    StructField(\"ct_state_ttl\", IntegerType(), True), \n",
    "    StructField(\"ct_flw_http_mthd\", IntegerType(), True), \n",
    "    StructField(\"is_ftp_login\", IntegerType(), True),  \n",
    "    StructField(\"ct_ftp_cmd\", IntegerType(), True),\n",
    "    StructField(\"ct_srv_src\", IntegerType(), True),    \n",
    "    StructField (\"ct_srv_dst\", IntegerType(), True),  \n",
    "    StructField(\"ct_dst_ltm\", IntegerType(), True),   \n",
    "    StructField(\"ct_src_ltm\", IntegerType(), True),    \n",
    "    StructField(\"ct_src_dport_ltm\", IntegerType(), True),    \n",
    "    StructField(\"ct_dst_sport_ltm\", IntegerType(), True),  \n",
    "    StructField(\"ct_dst_src_ltm\", IntegerType(), True),  \n",
    "    StructField(\"attack_cat\", StringType(), True),    \n",
    "    StructField(\"Label\", IntegerType(), True) \n",
    "    \n",
    "])"
   ]
  },
  {
   "cell_type": "code",
   "execution_count": 6,
   "metadata": {},
   "outputs": [],
   "source": [
    "df_schema = spark.read.format(\"csv\").option(\"header\", \"True\").schema(schema).load(\"/home/bigdata/UNSW-NB15.csv\")"
   ]
  },
  {
   "cell_type": "code",
   "execution_count": 7,
   "metadata": {},
   "outputs": [
    {
     "name": "stdout",
     "output_type": "stream",
     "text": [
      "+----------+-----+-------------+------+-----+-----+--------+------+------+----+----+-----+-----+--------+---------+---------+-----+-----+----+----+----------+----------+-------+-------+-----------+-----------+---------+---------+----------+----------+---------+---------+-------+-------+-------+---------------+------------+----------------+------------+----------+----------+----------+----------+----------+----------------+----------------+--------------+----------+-----+\n",
      "|     srcip|sport|        dstip|dsport|proto|state|     dur|sbytes|dbytes|sttl|dttl|sloss|dloss| service|    Sload|    Dload|Spkts|Dpkts|swin|dwin|     stcpb|     dtcpb|smeansz|dmeansz|trans_depth|res_bdy_len|     Sjit|     Djit|     Stime|     Ltime|  Sintpkt|  Dintpkt| tcprtt| synack| ackdat|is_sm_ips_ports|ct_state_ttl|ct_flw_http_mthd|is_ftp_login|ct_ftp_cmd|ct_srv_src|ct_srv_dst|ct_dst_ltm|ct_src_ltm|ct_src_dport_ltm|ct_dst_sport_ltm|ct_dst_src_ltm|attack_cat|Label|\n",
      "+----------+-----+-------------+------+-----+-----+--------+------+------+----+----+-----+-----+--------+---------+---------+-----+-----+----+----+----------+----------+-------+-------+-----------+-----------+---------+---------+----------+----------+---------+---------+-------+-------+-------+---------------+------------+----------------+------------+----------+----------+----------+----------+----------+----------------+----------------+--------------+----------+-----+\n",
      "|59.166.0.0|43467|149.171.126.6| 49729|  tcp|  FIN|0.101815|  null|  null|  31|  29|    7|   30|       -|328438.84|5087030.5|   72|   74| 255| 255| 961515433|      null|     59|    887|          0|          0|      0.0| 91.57957|1421970775|1421970775| 1.429493| 1.387192| 6.8E-4|5.46E-4|1.34E-4|              0|           0|               0|           0|         0|         7|         4|         1|         6|               1|               1|             1|      null|    0|\n",
      "|59.166.0.5|41289|149.171.126.2|  9574|  tcp|  FIN|0.044003|  null|  null|  31|  29|    7|   17|       -|488693.97|5181101.5|   44|   48| 255| 255|      null|1191410228|     63|    606|          0|          0| 78.12697|62.206562|1421970775|1421970775| 1.014977|  0.92583|0.00125|4.85E-4|7.65E-4|              0|           0|               0|           0|         0|         3|         5|         3|         3|               1|               1|             1|      null|    0|\n",
      "|59.166.0.9|43785|149.171.126.0|  6881|  tcp|  FIN| 2.79083|  null|  null|  31|  29|   16|  143|       -|29863.518|1130840.8|  180|  320| 255| 255|      null|      null|     58|   1237|          0|          0|2707.4927| 2018.976|1421970772|1421970775|15.589459| 8.747012|6.84E-4|5.32E-4|1.52E-4|              0|           0|               0|           0|         0|        11|         4|         3|         2|               1|               1|             1|      null|    0|\n",
      "|59.166.0.8|40691|149.171.126.9|  6881|  tcp|  FIN|  2.6335|  null|  null|  31|  29|   21|  197|       -| 40381.24|1661560.6|  232|  438| 255| 255|   1518931|  18267719|     58|   1252|          0|          0| 718.3368|500.57288|1421970773|1421970775|11.399026| 6.025183|6.19E-4|4.89E-4| 1.3E-4|              0|           0|               0|           0|         0|        16|         7|         7|         1|               1|               1|             1|      null|    0|\n",
      "|59.166.0.3|20393|149.171.126.3|  5190|  tcp|  FIN|0.115048|  null|  null|  31|  29|    6|    6|       -|129963.15|153814.06|   22|   24| 255| 255|      null|      null|     89|     96|          0|          0|435.26627|417.08563|1421970775|1421970775| 5.460381| 4.976913| 7.1E-4|5.73E-4|1.37E-4|              0|           0|               0|           0|         0|         2|         6|         1|         4|               1|               1|             1|      null|    0|\n",
      "|59.166.0.7|19792|149.171.126.0|    53|  udp|  CON|0.003362|  null|  null|  31|  29|    0|    0|     dns|173706.12| 211778.7|    2|    2|   0|   0|         0|         0|     73|     89|          0|          0|      0.0|      0.0|1421970775|1421970775|    0.011|    0.006|    0.0|    0.0|    0.0|              0|           0|               0|           0|         0|         3|         2|         3|         3|               3|               1|             1|      null|    0|\n",
      "|59.166.0.3|14382|149.171.126.9|  3354|  tcp|  FIN|0.453052|  null|  null|  31|  29|    1|    4|ftp-data| 6551.124| 142835.7|    8|   12| 255| 255|      null|      null|     53|    735|          0|          0| 3906.795|3074.6694|1421970775|1421970775| 64.67129|   41.135| 6.8E-4|5.59E-4|1.21E-4|              0|           0|               0|           0|         0|         4|         6|         7|         4|               1|               1|             2|      null|    0|\n",
      "|59.166.0.9|37074|149.171.126.2|    53|  udp|  CON|0.001088|  null|  null|  31|  29|    0|    0|     dns| 536764.7|654411.75|    2|    2|   0|   0|         0|         0|     73|     89|          0|          0|      0.0|      0.0|1421970775|1421970775|    0.001|    0.009|    0.0|    0.0|    0.0|              0|           0|               0|           0|         0|         2|         5|         3|         2|               1|               1|             1|      null|    0|\n",
      "|59.166.0.7|12569|149.171.126.5|    53|  udp|  CON| 9.69E-4|  null|  null|  31|  29|    0|    0|     dns| 602683.2| 734778.1|    2|    2|   0|   0|         0|         0|     73|     89|          0|          0|      0.0|      0.0|1421970775|1421970775|     0.01|    0.003|    0.0|    0.0|    0.0|              0|           0|               0|           0|         0|         3|         1|         2|         3|               3|               1|             1|      null|    0|\n",
      "|59.166.0.1|12792|149.171.126.7|    53|  udp|  CON|0.001063|  null|  null|  31|  29|    0|    0|     dns|549388.56| 669802.5|    2|    2|   0|   0|         0|         0|     73|     89|          0|          0|      0.0|      0.0|1421970780|1421970780|    0.002|    0.003|    0.0|    0.0|    0.0|              0|           0|               0|           0|         0|         5|         3|         2|         4|               3|               1|             1|      null|    0|\n",
      "|59.166.0.0|63414|149.171.126.9| 10330|  tcp|  FIN|0.265011|  null|  null|  31|  29|    4|    1|ftp-data|250283.94|8060.0425|   14|    6| 255| 255|      null|      null|    638|     53|          0|          0|1725.2916| 71.46425|1421970775|1421970776|20.385462|52.644802|7.75E-4|6.33E-4|1.42E-4|              0|           0|               0|           0|         0|         3|         6|         6|         5|               1|               1|             2|      null|    0|\n",
      "|59.166.0.1|33555|149.171.126.3|  6881|  tcp|  FIN|0.517128|  null|  null|  31|  29|    4|    4|       -|22338.764|  24025.0|   16|   18| 255| 255|1741520309|      null|     96|     91|          0|          0|2036.1301| 51.91766|1421970776|1421970776| 34.43333|30.388353|6.54E-4|5.22E-4|1.32E-4|              0|           0|               0|           0|         0|         4|         6|         5|         7|               4|               1|             4|      null|    0|\n",
      "|59.166.0.8|10867|149.171.126.8|   111|  udp|  CON|0.005339|  null|  null|  31|  29|    0|    0|       -| 638321.8|350627.47|    4|    4|   0|   0|         0|         0|    142|     78|          0|          0|  1.74302| 1.757632|1421970776|1421970776|     1.24| 1.252333|    0.0|    0.0|    0.0|              0|           0|               0|           0|         0|        16|         7|         5|         5|               1|               1|             4|      null|    0|\n",
      "|59.166.0.8|12411|149.171.126.8|  1715|  udp|  CON|0.001739|  null|  null|  31|  29|    0|    0|       -|1766532.5|1048878.6|    4|    4|   0|   0|         0|         0|    128|     76|          0|          0| 0.630268| 0.318434|1421970776|1421970776| 0.449667| 0.227667|    0.0|    0.0|    0.0|              0|           0|               0|           0|         0|        16|         7|         5|         5|               1|               1|             4|      null|    0|\n",
      "|59.166.0.8|46725|149.171.126.2|    53|  udp|  CON|0.001018|  null|  null|  31|  29|    0|    0|     dns| 573673.9| 699410.6|    2|    2|   0|   0|         0|         0|     73|     89|          0|          0|      0.0|      0.0|1421970776|1421970776|    0.011|    0.011|    0.0|    0.0|    0.0|              0|           0|               0|           0|         0|         2|         5|         3|         5|               1|               1|             1|      null|    0|\n",
      "|59.166.0.1|51562|149.171.126.4|    53|  udp|  CON|0.001044|  null|  null|  31|  29|    0|    0|     dns|559386.94| 681992.3|    2|    2|   0|   0|         0|         0|     73|     89|          0|          0|      0.0|      0.0|1421970776|1421970776|    0.011|    0.003|    0.0|    0.0|    0.0|              0|           0|               0|           0|         0|         2|         3|         5|         7|               2|               1|             3|      null|    0|\n",
      "|59.166.0.3|48838|149.171.126.2|    53|  udp|  CON| 9.87E-4|  null|  null|  31|  29|    0|    0|     dns| 591692.0|721377.94|    2|    2|   0|   0|         0|         0|     73|     89|          0|          0|      0.0|      0.0|1421970776|1421970776|    0.008|    0.003|    0.0|    0.0|    0.0|              0|           0|               0|           0|         0|         2|         5|         3|         3|               1|               1|             1|      null|    0|\n",
      "|59.166.0.0|16907|149.171.126.9|    21|  tcp|  FIN|2.254712|  null|  null|  31|  29|   11|   15|     ftp|10211.503|13025.166|   52|   54| 255| 255| 241515551|      null|     56|     69|          0|          0|3141.3708| 99.93412|1421970773|1421970776|44.203648|42.531734|6.61E-4|5.25E-4|1.36E-4|              0|           0|               0|           0|         0|         1|         3|         6|         5|               1|               1|             2|      null|    0|\n",
      "|59.166.0.0| 1915|149.171.126.4| 32945|  tcp|  FIN|0.051221|  null|  null|  31|  29|    7|   17|       -|436071.16|4450987.0|   46|   48| 255| 255|1921515932|1974066994|     62|    606|          0|          0|78.226654| 76.38798|1421970776|1421970776| 1.129422|  1.07817| 8.1E-4|5.43E-4|2.67E-4|              0|           0|               0|           0|         0|         7|         2|         5|         5|               1|               1|             2|      null|    0|\n",
      "|59.166.0.4| 1309|149.171.126.8| 52139|  tcp|  FIN|0.091375|  null|  null|  31|  29|    7|   30|       -|365964.44|5668246.0|   72|   74| 255| 255|1681522413|1731423574|     59|    887|          0|          0|      0.0| 77.51891|1421970776|1421970776| 1.268014|  1.24474|6.39E-4|5.05E-4|1.34E-4|              0|           0|               0|           0|         0|         2|         7|         5|         2|               1|               1|             1|      null|    0|\n",
      "+----------+-----+-------------+------+-----+-----+--------+------+------+----+----+-----+-----+--------+---------+---------+-----+-----+----+----+----------+----------+-------+-------+-----------+-----------+---------+---------+----------+----------+---------+---------+-------+-------+-------+---------------+------------+----------------+------------+----------+----------+----------+----------+----------+----------------+----------------+--------------+----------+-----+\n",
      "only showing top 20 rows\n",
      "\n"
     ]
    }
   ],
   "source": [
    "#show columns with values\n",
    "df_schema.show()"
   ]
  },
  {
   "cell_type": "code",
   "execution_count": 8,
   "metadata": {},
   "outputs": [],
   "source": [
    "#drop columnn with ip address, port and unix time\n",
    "df_schema = df_schema.drop(\"srcip\", \"sport\", \"dstip\", \"dsport\", \"stime\", \"ltime\", \"Label\")"
   ]
  },
  {
   "cell_type": "code",
   "execution_count": 9,
   "metadata": {},
   "outputs": [],
   "source": [
    "from pyspark.sql.functions import col, Column, lit, when, regexp_replace"
   ]
  },
  {
   "cell_type": "code",
   "execution_count": 10,
   "metadata": {},
   "outputs": [],
   "source": [
    "#remove blank space in column value\n",
    "df_schema = df_schema.withColumn('attack_cat', regexp_replace(col('attack_cat'), \" \", \"\"))"
   ]
  },
  {
   "cell_type": "code",
   "execution_count": 11,
   "metadata": {},
   "outputs": [],
   "source": [
    "#replace Backdoor with Backdoors\n",
    "df_schema=df_schema.replace(\"Backdoor\", \"Backdoors\")"
   ]
  },
  {
   "cell_type": "code",
   "execution_count": 12,
   "metadata": {},
   "outputs": [],
   "source": [
    "#replace blank space in column attack_cat with Normal\n",
    "df_schem = df_schema.fillna({\"attack_cat\": 'Normal'})"
   ]
  },
  {
   "cell_type": "code",
   "execution_count": 13,
   "metadata": {},
   "outputs": [
    {
     "name": "stdout",
     "output_type": "stream",
     "text": [
      "+--------------+\n",
      "|    attack_cat|\n",
      "+--------------+\n",
      "|         Worms|\n",
      "|     Shellcode|\n",
      "|     Backdoors|\n",
      "|       Fuzzers|\n",
      "|      Analysis|\n",
      "|           DoS|\n",
      "|Reconnaissance|\n",
      "|      Exploits|\n",
      "|        Normal|\n",
      "|       Generic|\n",
      "+--------------+\n",
      "\n"
     ]
    }
   ],
   "source": [
    "#show attack entries with attack_cat\n",
    "df_schem.select('attack_cat').distinct().show()"
   ]
  },
  {
   "cell_type": "code",
   "execution_count": 14,
   "metadata": {},
   "outputs": [],
   "source": [
    "final_data=df_schem.na.drop()"
   ]
  },
  {
   "cell_type": "code",
   "execution_count": 15,
   "metadata": {
    "scrolled": true
   },
   "outputs": [
    {
     "name": "stdout",
     "output_type": "stream",
     "text": [
      "+-----+-----+---------+------+------+----+----+-----+-----+-------+--------+---------+-----+-----+----+----+-----+-----+-------+-------+-----------+-----------+--------+--------+---------+---------+------+------+------+---------------+------------+----------------+------------+----------+----------+----------+----------+----------+----------------+----------------+--------------+----------+\n",
      "|proto|state|      dur|sbytes|dbytes|sttl|dttl|sloss|dloss|service|   Sload|    Dload|Spkts|Dpkts|swin|dwin|stcpb|dtcpb|smeansz|dmeansz|trans_depth|res_bdy_len|    Sjit|    Djit|  Sintpkt|  Dintpkt|tcprtt|synack|ackdat|is_sm_ips_ports|ct_state_ttl|ct_flw_http_mthd|is_ftp_login|ct_ftp_cmd|ct_srv_src|ct_srv_dst|ct_dst_ltm|ct_src_ltm|ct_src_dport_ltm|ct_dst_sport_ltm|ct_dst_src_ltm|attack_cat|\n",
      "+-----+-----+---------+------+------+----+----+-----+-----+-------+--------+---------+-----+-----+----+----+-----+-----+-------+-------+-----------+-----------+--------+--------+---------+---------+------+------+------+---------------+------------+----------------+------------+----------+----------+----------+----------+----------+----------------+----------------+--------------+----------+\n",
      "|  arp|  CON|34.719738|    56|    92|   0|   0|    0|    0|      -|6.451662|10.599158|    2|    2|   0|   0|    0|    0|     28|     46|          0|          0|     0.0|     0.0|34719.562|34719.574|   0.0|   0.0|   0.0|              0|           0|               0|           0|         0|         2|         2|         2|         2|               2|               2|             2|    Normal|\n",
      "|  arp|  CON|34.719738|    56|    92|   0|   0|    0|    0|      -|6.451662|10.599158|    2|    2|   0|   0|    0|    0|     28|     46|          0|          0|     0.0|     0.0|34719.562|34719.574|   0.0|   0.0|   0.0|              0|           0|               0|           0|         0|         2|         2|         2|         2|               2|               2|             2|    Normal|\n",
      "|  arp|  CON|      0.0|    56|    92|   0|   0|    0|    0|      -|6.746675|11.083822|    2|    2|   0|   0|    0|    0|     28|     46|          0|          0|     0.0|     0.0| 33200.55|33200.527|   0.0|   0.0|   0.0|              0|           0|               0|           0|         0|         2|         2|         2|         2|               2|               2|             2|    Normal|\n",
      "|  arp|  CON|      0.0|    56|    92|   0|   0|    0|    0|      -|6.746675|11.083822|    2|    2|   0|   0|    0|    0|     28|     46|          0|          0|     0.0|     0.0| 33200.55|33200.527|   0.0|   0.0|   0.0|              0|           0|               0|           0|         0|         2|         2|         2|         2|               2|               2|             2|    Normal|\n",
      "|  arp|  INT|      0.0|    46|     0|   0|   0|    0|    0|      -|     0.0|      0.0|    1|    0|   0|   0|    0|    0|     46|      0|          0|          0|     0.0|     0.0|      0.0|      0.0|   0.0|   0.0|   0.0|              1|           2|               0|           0|         0|         2|         2|         2|         2|               2|               2|             2|    Normal|\n",
      "|  arp|  INT|      0.0|    46|     0|   0|   0|    0|    0|      -|     0.0|      0.0|    1|    0|   0|   0|    0|    0|     46|      0|          0|          0|     0.0|     0.0|      0.0|      0.0|   0.0|   0.0|   0.0|              1|           2|               0|           0|         0|         2|         2|         2|         2|               2|               2|             2|    Normal|\n",
      "|  arp|  INT|      0.0|    46|     0|   0|   0|    0|    0|      -|     0.0|      0.0|    1|    0|   0|   0|    0|    0|     46|      0|          0|          0|     0.0|     0.0|      0.0|      0.0|   0.0|   0.0|   0.0|              1|           2|               0|           0|         0|         2|         2|         2|         2|               2|               2|             2|    Normal|\n",
      "|  arp|  INT|      0.0|    46|     0|   0|   0|    0|    0|      -|     0.0|      0.0|    1|    0|   0|   0|    0|    0|     46|      0|          0|          0|     0.0|     0.0|      0.0|      0.0|   0.0|   0.0|   0.0|              1|           2|               0|           0|         0|         2|         2|         2|         2|               2|               2|             2|    Normal|\n",
      "|  arp|  CON|      0.0|    56|    92|   0|   0|    0|    0|      -|5.445286| 8.945827|    2|    2|   0|   0|    0|    0|     28|     46|          0|          0|9.070334|     0.0| 41135.48|41135.477|   0.0|   0.0|   0.0|              0|           0|               0|           0|         0|         2|         2|         2|         2|               2|               2|             2|    Normal|\n",
      "|  arp|  CON|      0.0|    56|    92|   0|   0|    0|    0|      -|5.445286| 8.945827|    2|    2|   0|   0|    0|    0|     28|     46|          0|          0|9.070334|     0.0| 41135.48|41135.477|   0.0|   0.0|   0.0|              0|           0|               0|           0|         0|         2|         2|         2|         2|               2|               2|             2|    Normal|\n",
      "|  arp|  INT|      0.0|    46|     0|   0|   0|    0|    0|      -|     0.0|      0.0|    1|    0|   0|   0|    0|    0|     46|      0|          0|          0|     0.0|     0.0| 60000.43|      0.0|   0.0|   0.0|   0.0|              1|           2|               0|           0|         0|         1|         1|         1|         1|               1|               1|             1|    Normal|\n",
      "|  arp|  INT|      0.0|    46|     0|   0|   0|    0|    0|      -|     0.0|      0.0|    1|    0|   0|   0|    0|    0|     46|      0|          0|          0|     0.0|     0.0|60000.426|      0.0|   0.0|   0.0|   0.0|              1|           2|               0|           0|         0|         2|         2|         2|         2|               2|               2|             2|    Normal|\n",
      "|  arp|  INT|      0.0|    46|     0|   0|   0|    0|    0|      -|     0.0|      0.0|    1|    0|   0|   0|    0|    0|     46|      0|          0|          0|     0.0|     0.0| 60000.43|      0.0|   0.0|   0.0|   0.0|              1|           2|               0|           0|         0|         1|         1|         1|         1|               1|               1|             1|    Normal|\n",
      "|  arp|  INT|      0.0|    46|     0|   0|   0|    0|    0|      -|     0.0|      0.0|    1|    0|   0|   0|    0|    0|     46|      0|          0|          0|     0.0|     0.0|60000.426|      0.0|   0.0|   0.0|   0.0|              1|           2|               0|           0|         0|         2|         2|         2|         2|               2|               2|             2|    Normal|\n",
      "|  arp|  CON|41.996693|    56|    92|   0|   0|    0|    0|      -|5.333753| 8.762595|    2|    2|   0|   0|    0|    0|     28|     46|          0|          0|     0.0|7.380484|41992.965|41992.984|   0.0|   0.0|   0.0|              0|           0|               0|           0|         0|         2|         2|         2|         2|               2|               2|             2|    Normal|\n",
      "|  arp|  CON|41.996693|    56|    92|   0|   0|    0|    0|      -|5.333753| 8.762595|    2|    2|   0|   0|    0|    0|     28|     46|          0|          0|     0.0|7.380484|41992.965|41992.984|   0.0|   0.0|   0.0|              0|           0|               0|           0|         0|         2|         2|         2|         2|               2|               2|             2|    Normal|\n",
      "|  arp|  CON|40.118523|    56|    92|   0|   0|    0|    0|      -|5.583456|  9.17282|    2|    2|   0|   0|    0|    0|     28|     46|          0|          0|     0.0|     0.0|40117.496|40117.492|   0.0|   0.0|   0.0|              0|           0|               0|           0|         0|         2|         2|         2|         2|               2|               2|             2|    Normal|\n",
      "|  arp|  CON|40.118523|    56|    92|   0|   0|    0|    0|      -|5.583456|  9.17282|    2|    2|   0|   0|    0|    0|     28|     46|          0|          0|     0.0|     0.0|40117.496|40117.492|   0.0|   0.0|   0.0|              0|           0|               0|           0|         0|         2|         2|         2|         2|               2|               2|             2|    Normal|\n",
      "|  arp|  CON|38.426678|    56|    92|   0|   0|    0|    0|      -|5.829284|  9.57668|    2|    2|   0|   0|    0|    0|     28|     46|          0|          0|     0.0|8.766584|38426.516|  38426.5|   0.0|   0.0|   0.0|              0|           0|               0|           0|         0|         2|         2|         2|         2|               2|               2|             2|    Normal|\n",
      "|  arp|  CON|38.426678|    56|    92|   0|   0|    0|    0|      -|5.829284|  9.57668|    2|    2|   0|   0|    0|    0|     28|     46|          0|          0|     0.0|8.766584|38426.516|  38426.5|   0.0|   0.0|   0.0|              0|           0|               0|           0|         0|         2|         2|         2|         2|               2|               2|             2|    Normal|\n",
      "+-----+-----+---------+------+------+----+----+-----+-----+-------+--------+---------+-----+-----+----+----+-----+-----+-------+-------+-----------+-----------+--------+--------+---------+---------+------+------+------+---------------+------------+----------------+------------+----------+----------+----------+----------+----------+----------------+----------------+--------------+----------+\n",
      "only showing top 20 rows\n",
      "\n"
     ]
    }
   ],
   "source": [
    "final_data.show()"
   ]
  },
  {
   "cell_type": "code",
   "execution_count": 16,
   "metadata": {
    "scrolled": true
   },
   "outputs": [],
   "source": [
    "from pyspark.ml.feature import(VectorAssembler, VectorIndexer, OneHotEncoder, StringIndexer)\n",
    "\n",
    "assembler = VectorAssembler(inputCols=['dur', 'sbytes', 'dbytes', 'sttl', 'dttl', 'sloss', 'dloss', 'Sload', 'Dload', 'Spkts', 'Dpkts', 'swin', 'dwin', 'stcpb', 'dtcpb', 'smeansz', 'dmeansz', 'trans_depth', 'res_bdy_len', 'Sjit', 'Djit', 'Sintpkt', 'Dintpkt', 'tcprtt', 'synack', 'ackdat', 'is_sm_ips_ports', 'ct_state_ttl', 'ct_flw_http_mthd', 'is_ftp_login', 'ct_ftp_cmd', 'ct_srv_src', 'ct_srv_dst', 'ct_dst_ltm', 'ct_src_ltm', 'ct_src_dport_ltm', 'ct_dst_sport_ltm', 'ct_dst_src_ltm'], outputCol='features')"
   ]
  },
  {
   "cell_type": "code",
   "execution_count": 17,
   "metadata": {},
   "outputs": [],
   "source": [
    "main_data=assembler.transform(final_data)"
   ]
  },
  {
   "cell_type": "code",
   "execution_count": 18,
   "metadata": {},
   "outputs": [
    {
     "name": "stdout",
     "output_type": "stream",
     "text": [
      "+-----+-----+---------+------+------+----+----+-----+-----+-------+--------+---------+-----+-----+----+----+-----+-----+-------+-------+-----------+-----------+----+----+---------+---------+------+------+------+---------------+------------+----------------+------------+----------+----------+----------+----------+----------+----------------+----------------+--------------+----------+--------------------+\n",
      "|proto|state|      dur|sbytes|dbytes|sttl|dttl|sloss|dloss|service|   Sload|    Dload|Spkts|Dpkts|swin|dwin|stcpb|dtcpb|smeansz|dmeansz|trans_depth|res_bdy_len|Sjit|Djit|  Sintpkt|  Dintpkt|tcprtt|synack|ackdat|is_sm_ips_ports|ct_state_ttl|ct_flw_http_mthd|is_ftp_login|ct_ftp_cmd|ct_srv_src|ct_srv_dst|ct_dst_ltm|ct_src_ltm|ct_src_dport_ltm|ct_dst_sport_ltm|ct_dst_src_ltm|attack_cat|            features|\n",
      "+-----+-----+---------+------+------+----+----+-----+-----+-------+--------+---------+-----+-----+----+----+-----+-----+-------+-------+-----------+-----------+----+----+---------+---------+------+------+------+---------------+------------+----------------+------------+----------+----------+----------+----------+----------+----------------+----------------+--------------+----------+--------------------+\n",
      "|  arp|  CON|34.719738|    56|    92|   0|   0|    0|    0|      -|6.451662|10.599158|    2|    2|   0|   0|    0|    0|     28|     46|          0|          0| 0.0| 0.0|34719.562|34719.574|   0.0|   0.0|   0.0|              0|           0|               0|           0|         0|         2|         2|         2|         2|               2|               2|             2|    Normal|(38,[0,1,2,7,8,9,...|\n",
      "|  arp|  CON|34.719738|    56|    92|   0|   0|    0|    0|      -|6.451662|10.599158|    2|    2|   0|   0|    0|    0|     28|     46|          0|          0| 0.0| 0.0|34719.562|34719.574|   0.0|   0.0|   0.0|              0|           0|               0|           0|         0|         2|         2|         2|         2|               2|               2|             2|    Normal|(38,[0,1,2,7,8,9,...|\n",
      "|  arp|  CON|      0.0|    56|    92|   0|   0|    0|    0|      -|6.746675|11.083822|    2|    2|   0|   0|    0|    0|     28|     46|          0|          0| 0.0| 0.0| 33200.55|33200.527|   0.0|   0.0|   0.0|              0|           0|               0|           0|         0|         2|         2|         2|         2|               2|               2|             2|    Normal|(38,[1,2,7,8,9,10...|\n",
      "|  arp|  CON|      0.0|    56|    92|   0|   0|    0|    0|      -|6.746675|11.083822|    2|    2|   0|   0|    0|    0|     28|     46|          0|          0| 0.0| 0.0| 33200.55|33200.527|   0.0|   0.0|   0.0|              0|           0|               0|           0|         0|         2|         2|         2|         2|               2|               2|             2|    Normal|(38,[1,2,7,8,9,10...|\n",
      "|  arp|  INT|      0.0|    46|     0|   0|   0|    0|    0|      -|     0.0|      0.0|    1|    0|   0|   0|    0|    0|     46|      0|          0|          0| 0.0| 0.0|      0.0|      0.0|   0.0|   0.0|   0.0|              1|           2|               0|           0|         0|         2|         2|         2|         2|               2|               2|             2|    Normal|(38,[1,9,15,26,27...|\n",
      "+-----+-----+---------+------+------+----+----+-----+-----+-------+--------+---------+-----+-----+----+----+-----+-----+-------+-------+-----------+-----------+----+----+---------+---------+------+------+------+---------------+------------+----------------+------------+----------+----------+----------+----------+----------+----------------+----------------+--------------+----------+--------------------+\n",
      "only showing top 5 rows\n",
      "\n"
     ]
    }
   ],
   "source": [
    "main_data.show(5)"
   ]
  },
  {
   "cell_type": "code",
   "execution_count": 19,
   "metadata": {},
   "outputs": [],
   "source": [
    "from pyspark.ml.clustering import KMeans\n",
    "from pyspark.ml.feature import StandardScaler"
   ]
  },
  {
   "cell_type": "code",
   "execution_count": 20,
   "metadata": {},
   "outputs": [],
   "source": [
    "scaler = StandardScaler(inputCol= 'features', outputCol = 'scaledFeatures')"
   ]
  },
  {
   "cell_type": "code",
   "execution_count": 21,
   "metadata": {},
   "outputs": [],
   "source": [
    "scaler_model =scaler.fit(main_data)\n",
    "cluster_final_data =scaler_model.transform(main_data)"
   ]
  },
  {
   "cell_type": "code",
   "execution_count": 22,
   "metadata": {},
   "outputs": [
    {
     "name": "stdout",
     "output_type": "stream",
     "text": [
      "root\n",
      " |-- proto: string (nullable = true)\n",
      " |-- state: string (nullable = true)\n",
      " |-- dur: float (nullable = true)\n",
      " |-- sbytes: byte (nullable = true)\n",
      " |-- dbytes: byte (nullable = true)\n",
      " |-- sttl: integer (nullable = true)\n",
      " |-- dttl: integer (nullable = true)\n",
      " |-- sloss: integer (nullable = true)\n",
      " |-- dloss: integer (nullable = true)\n",
      " |-- service: string (nullable = true)\n",
      " |-- Sload: float (nullable = true)\n",
      " |-- Dload: float (nullable = true)\n",
      " |-- Spkts: integer (nullable = true)\n",
      " |-- Dpkts: integer (nullable = true)\n",
      " |-- swin: integer (nullable = true)\n",
      " |-- dwin: integer (nullable = true)\n",
      " |-- stcpb: integer (nullable = true)\n",
      " |-- dtcpb: integer (nullable = true)\n",
      " |-- smeansz: integer (nullable = true)\n",
      " |-- dmeansz: integer (nullable = true)\n",
      " |-- trans_depth: integer (nullable = true)\n",
      " |-- res_bdy_len: integer (nullable = true)\n",
      " |-- Sjit: float (nullable = true)\n",
      " |-- Djit: float (nullable = true)\n",
      " |-- Sintpkt: float (nullable = true)\n",
      " |-- Dintpkt: float (nullable = true)\n",
      " |-- tcprtt: float (nullable = true)\n",
      " |-- synack: float (nullable = true)\n",
      " |-- ackdat: float (nullable = true)\n",
      " |-- is_sm_ips_ports: integer (nullable = true)\n",
      " |-- ct_state_ttl: integer (nullable = true)\n",
      " |-- ct_flw_http_mthd: integer (nullable = true)\n",
      " |-- is_ftp_login: integer (nullable = true)\n",
      " |-- ct_ftp_cmd: integer (nullable = true)\n",
      " |-- ct_srv_src: integer (nullable = true)\n",
      " |-- ct_srv_dst: integer (nullable = true)\n",
      " |-- ct_dst_ltm: integer (nullable = true)\n",
      " |-- ct_src_ltm: integer (nullable = true)\n",
      " |-- ct_src_dport_ltm: integer (nullable = true)\n",
      " |-- ct_dst_sport_ltm: integer (nullable = true)\n",
      " |-- ct_dst_src_ltm: integer (nullable = true)\n",
      " |-- attack_cat: string (nullable = false)\n",
      " |-- features: vector (nullable = true)\n",
      " |-- scaledFeatures: vector (nullable = true)\n",
      "\n"
     ]
    }
   ],
   "source": [
    "cluster_final_data.printSchema()"
   ]
  },
  {
   "cell_type": "code",
   "execution_count": 23,
   "metadata": {},
   "outputs": [],
   "source": [
    "kmeans = KMeans(featuresCol = 'scaledFeatures' , k=10)"
   ]
  },
  {
   "cell_type": "code",
   "execution_count": 24,
   "metadata": {},
   "outputs": [],
   "source": [
    "model = kmeans.fit(cluster_final_data)"
   ]
  },
  {
   "cell_type": "code",
   "execution_count": 25,
   "metadata": {},
   "outputs": [],
   "source": [
    "prediction = model.transform(cluster_final_data)"
   ]
  },
  {
   "cell_type": "code",
   "execution_count": 26,
   "metadata": {},
   "outputs": [
    {
     "name": "stdout",
     "output_type": "stream",
     "text": [
      "+----------+------+\n",
      "|prediction| count|\n",
      "+----------+------+\n",
      "|         1|  1969|\n",
      "|         6|  4939|\n",
      "|         3|     1|\n",
      "|         5| 45545|\n",
      "|         9| 51221|\n",
      "|         4|    14|\n",
      "|         8|    43|\n",
      "|         7|    54|\n",
      "|         2|  2621|\n",
      "|         0|119587|\n",
      "+----------+------+\n",
      "\n"
     ]
    }
   ],
   "source": [
    "prediction.groupBy('prediction').count().show()"
   ]
  },
  {
   "cell_type": "code",
   "execution_count": 27,
   "metadata": {},
   "outputs": [
    {
     "name": "stdout",
     "output_type": "stream",
     "text": [
      "+----------+----------+\n",
      "|prediction|attack_cat|\n",
      "+----------+----------+\n",
      "|         2|    Normal|\n",
      "|         2|    Normal|\n",
      "|         2|    Normal|\n",
      "|         2|    Normal|\n",
      "|         6|    Normal|\n",
      "|         6|    Normal|\n",
      "|         6|    Normal|\n",
      "|         6|    Normal|\n",
      "|         2|    Normal|\n",
      "|         2|    Normal|\n",
      "|         6|    Normal|\n",
      "|         6|    Normal|\n",
      "|         6|    Normal|\n",
      "|         6|    Normal|\n",
      "|         2|    Normal|\n",
      "|         2|    Normal|\n",
      "|         2|    Normal|\n",
      "|         2|    Normal|\n",
      "|         2|    Normal|\n",
      "|         2|    Normal|\n",
      "+----------+----------+\n",
      "only showing top 20 rows\n",
      "\n"
     ]
    }
   ],
   "source": [
    "prediction.select('prediction', 'attack_cat').show()"
   ]
  },
  {
   "cell_type": "code",
   "execution_count": 28,
   "metadata": {},
   "outputs": [
    {
     "name": "stdout",
     "output_type": "stream",
     "text": [
      "+--------------------+--------------------+----------+\n",
      "|      scaledFeatures|            features|prediction|\n",
      "+--------------------+--------------------+----------+\n",
      "|(38,[0,1,2,7,8,9,...|(38,[0,1,2,7,8,9,...|         2|\n",
      "|(38,[0,1,2,7,8,9,...|(38,[0,1,2,7,8,9,...|         2|\n",
      "|(38,[1,2,7,8,9,10...|(38,[1,2,7,8,9,10...|         2|\n",
      "|(38,[1,2,7,8,9,10...|(38,[1,2,7,8,9,10...|         2|\n",
      "|(38,[1,9,15,26,27...|(38,[1,9,15,26,27...|         6|\n",
      "|(38,[1,9,15,26,27...|(38,[1,9,15,26,27...|         6|\n",
      "|(38,[1,9,15,26,27...|(38,[1,9,15,26,27...|         6|\n",
      "|(38,[1,9,15,26,27...|(38,[1,9,15,26,27...|         6|\n",
      "|(38,[1,2,7,8,9,10...|(38,[1,2,7,8,9,10...|         2|\n",
      "|(38,[1,2,7,8,9,10...|(38,[1,2,7,8,9,10...|         2|\n",
      "|(38,[1,9,15,21,26...|(38,[1,9,15,21,26...|         6|\n",
      "|(38,[1,9,15,21,26...|(38,[1,9,15,21,26...|         6|\n",
      "|(38,[1,9,15,21,26...|(38,[1,9,15,21,26...|         6|\n",
      "|(38,[1,9,15,21,26...|(38,[1,9,15,21,26...|         6|\n",
      "|(38,[0,1,2,7,8,9,...|(38,[0,1,2,7,8,9,...|         2|\n",
      "|(38,[0,1,2,7,8,9,...|(38,[0,1,2,7,8,9,...|         2|\n",
      "|(38,[0,1,2,7,8,9,...|(38,[0,1,2,7,8,9,...|         2|\n",
      "|(38,[0,1,2,7,8,9,...|(38,[0,1,2,7,8,9,...|         2|\n",
      "|(38,[0,1,2,7,8,9,...|(38,[0,1,2,7,8,9,...|         2|\n",
      "|(38,[0,1,2,7,8,9,...|(38,[0,1,2,7,8,9,...|         2|\n",
      "+--------------------+--------------------+----------+\n",
      "only showing top 20 rows\n",
      "\n"
     ]
    }
   ],
   "source": [
    "prediction.select('scaledFeatures', 'features' ,'prediction').show()"
   ]
  },
  {
   "cell_type": "code",
   "execution_count": 29,
   "metadata": {},
   "outputs": [],
   "source": [
    "from pyspark.ml.evaluation import ClusteringEvaluator"
   ]
  },
  {
   "cell_type": "code",
   "execution_count": 30,
   "metadata": {},
   "outputs": [],
   "source": [
    "evaluator = ClusteringEvaluator()"
   ]
  },
  {
   "cell_type": "code",
   "execution_count": 31,
   "metadata": {},
   "outputs": [
    {
     "name": "stdout",
     "output_type": "stream",
     "text": [
      "Silhoutte with squared euclidean distance = -0.5236269889501334\n"
     ]
    }
   ],
   "source": [
    "#Evaluating Clustering by computing within Set Sum of Sqaured Errors\n",
    "\n",
    "silhouette = evaluator.evaluate(model.transform(cluster_final_data))\n",
    "\n",
    "print(\"Silhoutte with squared euclidean distance = \" + str(silhouette))"
   ]
  },
  {
   "cell_type": "code",
   "execution_count": 32,
   "metadata": {},
   "outputs": [
    {
     "name": "stdout",
     "output_type": "stream",
     "text": [
      "Cluster Centers: \n",
      "[1.64047131e-06 9.47027375e+00 0.00000000e+00 5.51457944e+00\n",
      " 0.00000000e+00 0.00000000e+00 0.00000000e+00 1.10332534e+00\n",
      " 0.00000000e+00 1.36896560e+01 0.00000000e+00 0.00000000e+00\n",
      " 0.00000000e+00 0.00000000e+00 0.00000000e+00 1.40058283e+01\n",
      " 0.00000000e+00 0.00000000e+00 0.00000000e+00 0.00000000e+00\n",
      " 0.00000000e+00 7.73542412e-07 0.00000000e+00 0.00000000e+00\n",
      " 0.00000000e+00 0.00000000e+00 0.00000000e+00 4.43535771e+00\n",
      " 0.00000000e+00 0.00000000e+00 0.00000000e+00 2.35267942e+00\n",
      " 2.34355229e+00 1.65823397e+00 1.67550523e+00 1.63832293e+00\n",
      " 2.34523053e+00 2.28676093e+00]\n",
      "[1.63355233e-06 7.48193226e+00 0.00000000e+00 5.49982614e+00\n",
      " 0.00000000e+00 1.06773323e+01 0.00000000e+00 9.15146269e-01\n",
      " 0.00000000e+00 1.36896560e+01 0.00000000e+00 1.05396343e+01\n",
      " 0.00000000e+00 4.97081200e-02 0.00000000e+00 1.10652196e+01\n",
      " 0.00000000e+00 0.00000000e+00 0.00000000e+00 0.00000000e+00\n",
      " 0.00000000e+00 7.70279872e-07 0.00000000e+00 0.00000000e+00\n",
      " 0.00000000e+00 0.00000000e+00 0.00000000e+00 1.32655264e+01\n",
      " 0.00000000e+00 0.00000000e+00 0.00000000e+00 7.64179732e-01\n",
      " 6.66082533e-01 4.16549503e-01 3.89760538e-01 9.07574074e-02\n",
      " 1.43584758e-01 7.18724522e-01]\n",
      "[7.32786858e+00 4.69751492e+00 9.19846973e+00 3.44343337e-02\n",
      " 4.19594302e-01 0.00000000e+00 0.00000000e+00 9.89130182e-06\n",
      " 7.89625520e-03 1.36400368e+01 9.11733587e+00 1.20956229e-02\n",
      " 8.79837246e-02 7.13545885e-03 1.72755296e-02 6.97249260e+00\n",
      " 9.04528911e+00 0.00000000e+00 0.00000000e+00 1.77287064e-01\n",
      " 5.65829918e-01 4.32208651e+00 9.11874944e+00 0.00000000e+00\n",
      " 0.00000000e+00 0.00000000e+00 0.00000000e+00 7.61507427e-03\n",
      " 0.00000000e+00 0.00000000e+00 0.00000000e+00 1.49318222e-01\n",
      " 1.39658303e-01 1.54418356e-01 1.58839867e-01 1.56043966e-01\n",
      " 2.42357486e-01 1.34431585e-01]\n",
      "[2.31060254e-01 7.97496737e+00 9.68605214e+00 5.51457944e+00\n",
      " 2.64697879e+02 1.06773323e+01 1.37236111e+02 8.11225904e-05\n",
      " 6.22099130e-02 1.36896560e+01 9.16278271e+00 1.05675425e+01\n",
      " 1.15302671e+02 6.08000302e+01 5.65283195e+01 1.17943818e+01\n",
      " 9.47731574e+00 0.00000000e+00 0.00000000e+00 0.00000000e+00\n",
      " 0.00000000e+00 4.54402260e-07 2.15763655e-06 4.61461633e+02\n",
      " 4.61461633e+02 0.00000000e+00 0.00000000e+00 0.00000000e+00\n",
      " 0.00000000e+00 0.00000000e+00 0.00000000e+00 3.27226639e-01\n",
      " 4.07531076e-01 1.81778806e-01 1.81363228e-01 1.81330629e-01\n",
      " 1.43584758e-01 1.58571190e-01]\n",
      "[5.12441296e-03 8.87689820e+00 1.04788094e+01 1.36158626e+00\n",
      " 4.97433940e+01 6.10133272e+00 1.07828373e+02 2.08758581e-02\n",
      " 1.46279308e+01 1.36896560e+01 8.83554047e+00 1.05675425e+01\n",
      " 1.15302671e+02 4.86915317e+01 1.12181641e+02 1.31282702e+01\n",
      " 1.06478771e+01 0.00000000e+00 0.00000000e+00 0.00000000e+00\n",
      " 0.00000000e+00 5.19316853e-07 7.19212224e-07 1.04196387e+01\n",
      " 1.04196387e+01 0.00000000e+00 0.00000000e+00 6.33622529e-01\n",
      " 0.00000000e+00 0.00000000e+00 0.00000000e+00 5.96019950e-01\n",
      " 5.88009124e-01 2.66176108e-01 3.23862907e-01 1.29521878e-01\n",
      " 1.43584758e-01 1.47244676e-01]\n",
      "[1.65602055e-06 9.47027375e+00 0.00000000e+00 5.51457944e+00\n",
      " 0.00000000e+00 0.00000000e+00 0.00000000e+00 1.05271926e+00\n",
      " 0.00000000e+00 1.36896560e+01 0.00000000e+00 0.00000000e+00\n",
      " 0.00000000e+00 0.00000000e+00 0.00000000e+00 1.40058283e+01\n",
      " 0.00000000e+00 0.00000000e+00 0.00000000e+00 0.00000000e+00\n",
      " 0.00000000e+00 7.80874451e-07 0.00000000e+00 0.00000000e+00\n",
      " 0.00000000e+00 0.00000000e+00 0.00000000e+00 4.43535771e+00\n",
      " 0.00000000e+00 0.00000000e+00 0.00000000e+00 3.36571045e+00\n",
      " 3.35259428e+00 3.20974993e+00 3.22152382e+00 3.19098909e+00\n",
      " 2.80137032e+00 3.26436263e+00]\n",
      "[5.81362478e-01 4.05720141e+00 1.68902863e-01 2.47572442e-02\n",
      " 0.00000000e+00 0.00000000e+00 0.00000000e+00 2.58469409e-09\n",
      " 0.00000000e+00 7.10537216e+00 2.47667846e-01 6.41883530e-03\n",
      " 0.00000000e+00 1.31142261e-02 0.00000000e+00 1.15703566e+01\n",
      " 3.30525944e-01 0.00000000e+00 0.00000000e+00 5.20153110e-03\n",
      " 1.02424832e-05 5.34599835e+00 3.15517140e-03 0.00000000e+00\n",
      " 0.00000000e+00 0.00000000e+00 6.27996032e+00 4.12464020e+00\n",
      " 0.00000000e+00 0.00000000e+00 0.00000000e+00 1.55066602e-01\n",
      " 1.55652282e-01 1.59107062e-01 1.61258679e-01 1.55373805e-01\n",
      " 2.48126324e-01 1.44829852e-01]\n",
      "[1.74886899e-06 7.55191258e+00 0.00000000e+00 2.20848533e+00\n",
      " 0.00000000e+00 4.35002426e+00 0.00000000e+00 7.79746551e-01\n",
      " 0.00000000e+00 1.20418270e+01 0.00000000e+00 9.30511641e+00\n",
      " 0.00000000e+00 5.55934252e+01 0.00000000e+00 1.30002117e+01\n",
      " 0.00000000e+00 0.00000000e+00 0.00000000e+00 0.00000000e+00\n",
      " 0.00000000e+00 7.36299929e-07 0.00000000e+00 0.00000000e+00\n",
      " 0.00000000e+00 0.00000000e+00 8.23686106e-01 2.71049638e+00\n",
      " 0.00000000e+00 0.00000000e+00 0.00000000e+00 3.71159845e-01\n",
      " 3.23006112e-01 2.13758410e-01 3.17385649e-01 1.12492150e-01\n",
      " 1.59538620e-01 1.29206155e-01]\n",
      "[ 2.43010087  7.64267706  5.65019708  0.          0.          0.\n",
      "  0.          0.13076679 61.04013147 13.68965597  9.16278271  0.\n",
      "  0.          0.          0.         11.30294919  5.52843418  0.\n",
      "  0.         19.85454843 63.18352253  1.67885563  3.54297979  0.\n",
      "  0.          0.          0.          0.          0.          0.\n",
      "  0.          0.13888107  0.14026651  0.15430061  0.15394786  0.15392019\n",
      "  0.24376017  0.13460113]\n",
      "[3.72297683e-06 9.27709404e+00 4.09723479e-04 5.50303370e+00\n",
      " 2.54286646e-03 0.00000000e+00 0.00000000e+00 1.10851060e+00\n",
      " 0.00000000e+00 1.36734863e+01 3.57774456e-04 2.47575233e-03\n",
      " 0.00000000e+00 3.18355526e-03 3.35115582e-03 1.37447707e+01\n",
      " 8.01787708e-04 0.00000000e+00 0.00000000e+00 7.62263493e-02\n",
      " 0.00000000e+00 6.44656843e-03 0.00000000e+00 0.00000000e+00\n",
      " 0.00000000e+00 0.00000000e+00 0.00000000e+00 4.42955600e+00\n",
      " 0.00000000e+00 0.00000000e+00 0.00000000e+00 1.19790274e+00\n",
      " 1.18553902e+00 6.92800795e-01 7.14752620e-01 6.78422453e-01\n",
      " 9.21497887e-01 1.08139137e+00]\n"
     ]
    }
   ],
   "source": [
    "# Shows the result.\n",
    "centers = model.clusterCenters()\n",
    "print(\"Cluster Centers: \")\n",
    "for center in centers:\n",
    "    print(center)"
   ]
  },
  {
   "cell_type": "code",
   "execution_count": 33,
   "metadata": {},
   "outputs": [],
   "source": [
    "#convert prediction to dataframe\n",
    "pandasDF= prediction.toPandas()"
   ]
  },
  {
   "cell_type": "code",
   "execution_count": 34,
   "metadata": {},
   "outputs": [
    {
     "data": {
      "text/html": [
       "<div>\n",
       "<style scoped>\n",
       "    .dataframe tbody tr th:only-of-type {\n",
       "        vertical-align: middle;\n",
       "    }\n",
       "\n",
       "    .dataframe tbody tr th {\n",
       "        vertical-align: top;\n",
       "    }\n",
       "\n",
       "    .dataframe thead th {\n",
       "        text-align: right;\n",
       "    }\n",
       "</style>\n",
       "<table border=\"1\" class=\"dataframe\">\n",
       "  <thead>\n",
       "    <tr style=\"text-align: right;\">\n",
       "      <th></th>\n",
       "      <th>proto</th>\n",
       "      <th>state</th>\n",
       "      <th>dur</th>\n",
       "      <th>sbytes</th>\n",
       "      <th>dbytes</th>\n",
       "      <th>sttl</th>\n",
       "      <th>dttl</th>\n",
       "      <th>sloss</th>\n",
       "      <th>dloss</th>\n",
       "      <th>service</th>\n",
       "      <th>...</th>\n",
       "      <th>ct_srv_dst</th>\n",
       "      <th>ct_dst_ltm</th>\n",
       "      <th>ct_src_ltm</th>\n",
       "      <th>ct_src_dport_ltm</th>\n",
       "      <th>ct_dst_sport_ltm</th>\n",
       "      <th>ct_dst_src_ltm</th>\n",
       "      <th>attack_cat</th>\n",
       "      <th>features</th>\n",
       "      <th>scaledFeatures</th>\n",
       "      <th>prediction</th>\n",
       "    </tr>\n",
       "  </thead>\n",
       "  <tbody>\n",
       "    <tr>\n",
       "      <td>0</td>\n",
       "      <td>arp</td>\n",
       "      <td>CON</td>\n",
       "      <td>34.719738</td>\n",
       "      <td>56</td>\n",
       "      <td>92</td>\n",
       "      <td>0</td>\n",
       "      <td>0</td>\n",
       "      <td>0</td>\n",
       "      <td>0</td>\n",
       "      <td>-</td>\n",
       "      <td>...</td>\n",
       "      <td>2</td>\n",
       "      <td>2</td>\n",
       "      <td>2</td>\n",
       "      <td>2</td>\n",
       "      <td>2</td>\n",
       "      <td>2</td>\n",
       "      <td>Normal</td>\n",
       "      <td>(34.7197380065918, 56.0, 92.0, 0.0, 0.0, 0.0, ...</td>\n",
       "      <td>(8.364527389462413, 4.652064297571485, 9.28246...</td>\n",
       "      <td>2</td>\n",
       "    </tr>\n",
       "    <tr>\n",
       "      <td>1</td>\n",
       "      <td>arp</td>\n",
       "      <td>CON</td>\n",
       "      <td>34.719738</td>\n",
       "      <td>56</td>\n",
       "      <td>92</td>\n",
       "      <td>0</td>\n",
       "      <td>0</td>\n",
       "      <td>0</td>\n",
       "      <td>0</td>\n",
       "      <td>-</td>\n",
       "      <td>...</td>\n",
       "      <td>2</td>\n",
       "      <td>2</td>\n",
       "      <td>2</td>\n",
       "      <td>2</td>\n",
       "      <td>2</td>\n",
       "      <td>2</td>\n",
       "      <td>Normal</td>\n",
       "      <td>(34.7197380065918, 56.0, 92.0, 0.0, 0.0, 0.0, ...</td>\n",
       "      <td>(8.364527389462413, 4.652064297571485, 9.28246...</td>\n",
       "      <td>2</td>\n",
       "    </tr>\n",
       "    <tr>\n",
       "      <td>2</td>\n",
       "      <td>arp</td>\n",
       "      <td>CON</td>\n",
       "      <td>0.000000</td>\n",
       "      <td>56</td>\n",
       "      <td>92</td>\n",
       "      <td>0</td>\n",
       "      <td>0</td>\n",
       "      <td>0</td>\n",
       "      <td>0</td>\n",
       "      <td>-</td>\n",
       "      <td>...</td>\n",
       "      <td>2</td>\n",
       "      <td>2</td>\n",
       "      <td>2</td>\n",
       "      <td>2</td>\n",
       "      <td>2</td>\n",
       "      <td>2</td>\n",
       "      <td>Normal</td>\n",
       "      <td>(0.0, 56.0, 92.0, 0.0, 0.0, 0.0, 0.0, 6.746675...</td>\n",
       "      <td>(0.0, 4.652064297571485, 9.282466638825662, 0....</td>\n",
       "      <td>2</td>\n",
       "    </tr>\n",
       "    <tr>\n",
       "      <td>3</td>\n",
       "      <td>arp</td>\n",
       "      <td>CON</td>\n",
       "      <td>0.000000</td>\n",
       "      <td>56</td>\n",
       "      <td>92</td>\n",
       "      <td>0</td>\n",
       "      <td>0</td>\n",
       "      <td>0</td>\n",
       "      <td>0</td>\n",
       "      <td>-</td>\n",
       "      <td>...</td>\n",
       "      <td>2</td>\n",
       "      <td>2</td>\n",
       "      <td>2</td>\n",
       "      <td>2</td>\n",
       "      <td>2</td>\n",
       "      <td>2</td>\n",
       "      <td>Normal</td>\n",
       "      <td>(0.0, 56.0, 92.0, 0.0, 0.0, 0.0, 0.0, 6.746675...</td>\n",
       "      <td>(0.0, 4.652064297571485, 9.282466638825662, 0....</td>\n",
       "      <td>2</td>\n",
       "    </tr>\n",
       "    <tr>\n",
       "      <td>4</td>\n",
       "      <td>arp</td>\n",
       "      <td>INT</td>\n",
       "      <td>0.000000</td>\n",
       "      <td>46</td>\n",
       "      <td>0</td>\n",
       "      <td>0</td>\n",
       "      <td>0</td>\n",
       "      <td>0</td>\n",
       "      <td>0</td>\n",
       "      <td>-</td>\n",
       "      <td>...</td>\n",
       "      <td>2</td>\n",
       "      <td>2</td>\n",
       "      <td>2</td>\n",
       "      <td>2</td>\n",
       "      <td>2</td>\n",
       "      <td>2</td>\n",
       "      <td>Normal</td>\n",
       "      <td>(0.0, 46.0, 0.0, 0.0, 0.0, 0.0, 0.0, 0.0, 0.0,...</td>\n",
       "      <td>(0.0, 3.8213385301480054, 0.0, 0.0, 0.0, 0.0, ...</td>\n",
       "      <td>6</td>\n",
       "    </tr>\n",
       "    <tr>\n",
       "      <td>...</td>\n",
       "      <td>...</td>\n",
       "      <td>...</td>\n",
       "      <td>...</td>\n",
       "      <td>...</td>\n",
       "      <td>...</td>\n",
       "      <td>...</td>\n",
       "      <td>...</td>\n",
       "      <td>...</td>\n",
       "      <td>...</td>\n",
       "      <td>...</td>\n",
       "      <td>...</td>\n",
       "      <td>...</td>\n",
       "      <td>...</td>\n",
       "      <td>...</td>\n",
       "      <td>...</td>\n",
       "      <td>...</td>\n",
       "      <td>...</td>\n",
       "      <td>...</td>\n",
       "      <td>...</td>\n",
       "      <td>...</td>\n",
       "      <td>...</td>\n",
       "    </tr>\n",
       "    <tr>\n",
       "      <td>225989</td>\n",
       "      <td>arp</td>\n",
       "      <td>INT</td>\n",
       "      <td>0.000000</td>\n",
       "      <td>46</td>\n",
       "      <td>0</td>\n",
       "      <td>0</td>\n",
       "      <td>0</td>\n",
       "      <td>0</td>\n",
       "      <td>0</td>\n",
       "      <td>-</td>\n",
       "      <td>...</td>\n",
       "      <td>2</td>\n",
       "      <td>2</td>\n",
       "      <td>2</td>\n",
       "      <td>2</td>\n",
       "      <td>2</td>\n",
       "      <td>2</td>\n",
       "      <td>Normal</td>\n",
       "      <td>(0.0, 46.0, 0.0, 0.0, 0.0, 0.0, 0.0, 0.0, 0.0,...</td>\n",
       "      <td>(0.0, 3.8213385301480054, 0.0, 0.0, 0.0, 0.0, ...</td>\n",
       "      <td>6</td>\n",
       "    </tr>\n",
       "    <tr>\n",
       "      <td>225990</td>\n",
       "      <td>arp</td>\n",
       "      <td>INT</td>\n",
       "      <td>0.000000</td>\n",
       "      <td>46</td>\n",
       "      <td>0</td>\n",
       "      <td>0</td>\n",
       "      <td>0</td>\n",
       "      <td>0</td>\n",
       "      <td>0</td>\n",
       "      <td>-</td>\n",
       "      <td>...</td>\n",
       "      <td>2</td>\n",
       "      <td>2</td>\n",
       "      <td>2</td>\n",
       "      <td>2</td>\n",
       "      <td>2</td>\n",
       "      <td>2</td>\n",
       "      <td>Normal</td>\n",
       "      <td>(0.0, 46.0, 0.0, 0.0, 0.0, 0.0, 0.0, 0.0, 0.0,...</td>\n",
       "      <td>(0.0, 3.8213385301480054, 0.0, 0.0, 0.0, 0.0, ...</td>\n",
       "      <td>6</td>\n",
       "    </tr>\n",
       "    <tr>\n",
       "      <td>225991</td>\n",
       "      <td>arp</td>\n",
       "      <td>INT</td>\n",
       "      <td>0.000000</td>\n",
       "      <td>46</td>\n",
       "      <td>0</td>\n",
       "      <td>0</td>\n",
       "      <td>0</td>\n",
       "      <td>0</td>\n",
       "      <td>0</td>\n",
       "      <td>-</td>\n",
       "      <td>...</td>\n",
       "      <td>2</td>\n",
       "      <td>2</td>\n",
       "      <td>2</td>\n",
       "      <td>2</td>\n",
       "      <td>2</td>\n",
       "      <td>2</td>\n",
       "      <td>Normal</td>\n",
       "      <td>(0.0, 46.0, 0.0, 0.0, 0.0, 0.0, 0.0, 0.0, 0.0,...</td>\n",
       "      <td>(0.0, 3.8213385301480054, 0.0, 0.0, 0.0, 0.0, ...</td>\n",
       "      <td>6</td>\n",
       "    </tr>\n",
       "    <tr>\n",
       "      <td>225992</td>\n",
       "      <td>arp</td>\n",
       "      <td>INT</td>\n",
       "      <td>0.000000</td>\n",
       "      <td>46</td>\n",
       "      <td>0</td>\n",
       "      <td>0</td>\n",
       "      <td>0</td>\n",
       "      <td>0</td>\n",
       "      <td>0</td>\n",
       "      <td>-</td>\n",
       "      <td>...</td>\n",
       "      <td>2</td>\n",
       "      <td>2</td>\n",
       "      <td>2</td>\n",
       "      <td>2</td>\n",
       "      <td>2</td>\n",
       "      <td>2</td>\n",
       "      <td>Normal</td>\n",
       "      <td>(0.0, 46.0, 0.0, 0.0, 0.0, 0.0, 0.0, 0.0, 0.0,...</td>\n",
       "      <td>(0.0, 3.8213385301480054, 0.0, 0.0, 0.0, 0.0, ...</td>\n",
       "      <td>6</td>\n",
       "    </tr>\n",
       "    <tr>\n",
       "      <td>225993</td>\n",
       "      <td>arp</td>\n",
       "      <td>INT</td>\n",
       "      <td>0.000000</td>\n",
       "      <td>46</td>\n",
       "      <td>0</td>\n",
       "      <td>0</td>\n",
       "      <td>0</td>\n",
       "      <td>0</td>\n",
       "      <td>0</td>\n",
       "      <td>-</td>\n",
       "      <td>...</td>\n",
       "      <td>2</td>\n",
       "      <td>2</td>\n",
       "      <td>2</td>\n",
       "      <td>2</td>\n",
       "      <td>2</td>\n",
       "      <td>2</td>\n",
       "      <td>Normal</td>\n",
       "      <td>(0.0, 46.0, 0.0, 0.0, 0.0, 0.0, 0.0, 0.0, 0.0,...</td>\n",
       "      <td>(0.0, 3.8213385301480054, 0.0, 0.0, 0.0, 0.0, ...</td>\n",
       "      <td>6</td>\n",
       "    </tr>\n",
       "  </tbody>\n",
       "</table>\n",
       "<p>225994 rows × 45 columns</p>\n",
       "</div>"
      ],
      "text/plain": [
       "       proto state        dur  sbytes  dbytes  sttl  dttl  sloss  dloss  \\\n",
       "0        arp   CON  34.719738      56      92     0     0      0      0   \n",
       "1        arp   CON  34.719738      56      92     0     0      0      0   \n",
       "2        arp   CON   0.000000      56      92     0     0      0      0   \n",
       "3        arp   CON   0.000000      56      92     0     0      0      0   \n",
       "4        arp   INT   0.000000      46       0     0     0      0      0   \n",
       "...      ...   ...        ...     ...     ...   ...   ...    ...    ...   \n",
       "225989   arp   INT   0.000000      46       0     0     0      0      0   \n",
       "225990   arp   INT   0.000000      46       0     0     0      0      0   \n",
       "225991   arp   INT   0.000000      46       0     0     0      0      0   \n",
       "225992   arp   INT   0.000000      46       0     0     0      0      0   \n",
       "225993   arp   INT   0.000000      46       0     0     0      0      0   \n",
       "\n",
       "       service  ...  ct_srv_dst  ct_dst_ltm  ct_src_ltm  ct_src_dport_ltm  \\\n",
       "0            -  ...           2           2           2                 2   \n",
       "1            -  ...           2           2           2                 2   \n",
       "2            -  ...           2           2           2                 2   \n",
       "3            -  ...           2           2           2                 2   \n",
       "4            -  ...           2           2           2                 2   \n",
       "...        ...  ...         ...         ...         ...               ...   \n",
       "225989       -  ...           2           2           2                 2   \n",
       "225990       -  ...           2           2           2                 2   \n",
       "225991       -  ...           2           2           2                 2   \n",
       "225992       -  ...           2           2           2                 2   \n",
       "225993       -  ...           2           2           2                 2   \n",
       "\n",
       "        ct_dst_sport_ltm  ct_dst_src_ltm  attack_cat  \\\n",
       "0                      2               2      Normal   \n",
       "1                      2               2      Normal   \n",
       "2                      2               2      Normal   \n",
       "3                      2               2      Normal   \n",
       "4                      2               2      Normal   \n",
       "...                  ...             ...         ...   \n",
       "225989                 2               2      Normal   \n",
       "225990                 2               2      Normal   \n",
       "225991                 2               2      Normal   \n",
       "225992                 2               2      Normal   \n",
       "225993                 2               2      Normal   \n",
       "\n",
       "                                                 features  \\\n",
       "0       (34.7197380065918, 56.0, 92.0, 0.0, 0.0, 0.0, ...   \n",
       "1       (34.7197380065918, 56.0, 92.0, 0.0, 0.0, 0.0, ...   \n",
       "2       (0.0, 56.0, 92.0, 0.0, 0.0, 0.0, 0.0, 6.746675...   \n",
       "3       (0.0, 56.0, 92.0, 0.0, 0.0, 0.0, 0.0, 6.746675...   \n",
       "4       (0.0, 46.0, 0.0, 0.0, 0.0, 0.0, 0.0, 0.0, 0.0,...   \n",
       "...                                                   ...   \n",
       "225989  (0.0, 46.0, 0.0, 0.0, 0.0, 0.0, 0.0, 0.0, 0.0,...   \n",
       "225990  (0.0, 46.0, 0.0, 0.0, 0.0, 0.0, 0.0, 0.0, 0.0,...   \n",
       "225991  (0.0, 46.0, 0.0, 0.0, 0.0, 0.0, 0.0, 0.0, 0.0,...   \n",
       "225992  (0.0, 46.0, 0.0, 0.0, 0.0, 0.0, 0.0, 0.0, 0.0,...   \n",
       "225993  (0.0, 46.0, 0.0, 0.0, 0.0, 0.0, 0.0, 0.0, 0.0,...   \n",
       "\n",
       "                                           scaledFeatures  prediction  \n",
       "0       (8.364527389462413, 4.652064297571485, 9.28246...           2  \n",
       "1       (8.364527389462413, 4.652064297571485, 9.28246...           2  \n",
       "2       (0.0, 4.652064297571485, 9.282466638825662, 0....           2  \n",
       "3       (0.0, 4.652064297571485, 9.282466638825662, 0....           2  \n",
       "4       (0.0, 3.8213385301480054, 0.0, 0.0, 0.0, 0.0, ...           6  \n",
       "...                                                   ...         ...  \n",
       "225989  (0.0, 3.8213385301480054, 0.0, 0.0, 0.0, 0.0, ...           6  \n",
       "225990  (0.0, 3.8213385301480054, 0.0, 0.0, 0.0, 0.0, ...           6  \n",
       "225991  (0.0, 3.8213385301480054, 0.0, 0.0, 0.0, 0.0, ...           6  \n",
       "225992  (0.0, 3.8213385301480054, 0.0, 0.0, 0.0, 0.0, ...           6  \n",
       "225993  (0.0, 3.8213385301480054, 0.0, 0.0, 0.0, 0.0, ...           6  \n",
       "\n",
       "[225994 rows x 45 columns]"
      ]
     },
     "execution_count": 34,
     "metadata": {},
     "output_type": "execute_result"
    }
   ],
   "source": [
    "pandasDF"
   ]
  },
  {
   "cell_type": "code",
   "execution_count": 35,
   "metadata": {},
   "outputs": [
    {
     "data": {
      "image/png": "[encoded data removed]",
      "text/plain": [
       "<Figure size 432x288 with 1 Axes>"
      ]
     },
     "metadata": {
      "needs_background": "light"
     },
     "output_type": "display_data"
    }
   ],
   "source": [
    "#pandas_testDF interpretation in graphical form suggesting number of cluster point\n",
    "\n",
    "prediction.select(\"prediction\").toPandas().hist();"
   ]
  },
  {
   "cell_type": "code",
   "execution_count": 36,
   "metadata": {
    "scrolled": true
   },
   "outputs": [
    {
     "name": "stdout",
     "output_type": "stream",
     "text": [
      "+--------------+----------+------+\n",
      "|    attack_cat|prediction| count|\n",
      "+--------------+----------+------+\n",
      "|      Exploits|         9|   286|\n",
      "|        Normal|         2|  2605|\n",
      "|       Fuzzers|         6|    16|\n",
      "|Reconnaissance|         9|    74|\n",
      "|      Exploits|         4|     1|\n",
      "|           DoS|         9|   264|\n",
      "|      Exploits|         2|     6|\n",
      "|Reconnaissance|         6|    25|\n",
      "|      Exploits|         6|   189|\n",
      "|     Shellcode|         9|    45|\n",
      "|        Normal|         4|    13|\n",
      "|         Worms|         9|     7|\n",
      "|       Fuzzers|         3|     1|\n",
      "|       Generic|         0|119587|\n",
      "|      Analysis|         6|     3|\n",
      "|           DoS|         6|   111|\n",
      "|        Normal|         6|  4553|\n",
      "|        Normal|         8|    43|\n",
      "|        Normal|         9|  3538|\n",
      "|        Normal|         7|    54|\n",
      "+--------------+----------+------+\n",
      "only showing top 20 rows\n",
      "\n"
     ]
    }
   ],
   "source": [
    "prediction.groupBy('attack_cat', 'prediction').count().show()"
   ]
  },
  {
   "cell_type": "code",
   "execution_count": 37,
   "metadata": {},
   "outputs": [
    {
     "name": "stdout",
     "output_type": "stream",
     "text": [
      "+----------+----------+\n",
      "|prediction|attack_cat|\n",
      "+----------+----------+\n",
      "|         2|    Normal|\n",
      "|         2|    Normal|\n",
      "|         2|    Normal|\n",
      "|         2|    Normal|\n",
      "|         6|    Normal|\n",
      "|         6|    Normal|\n",
      "|         6|    Normal|\n",
      "|         6|    Normal|\n",
      "|         2|    Normal|\n",
      "|         2|    Normal|\n",
      "|         6|    Normal|\n",
      "|         6|    Normal|\n",
      "|         6|    Normal|\n",
      "|         6|    Normal|\n",
      "|         2|    Normal|\n",
      "|         2|    Normal|\n",
      "|         2|    Normal|\n",
      "|         2|    Normal|\n",
      "|         2|    Normal|\n",
      "|         2|    Normal|\n",
      "+----------+----------+\n",
      "only showing top 20 rows\n",
      "\n"
     ]
    }
   ],
   "source": [
    "prediction.select('prediction', 'attack_cat').show()"
   ]
  },
  {
   "cell_type": "code",
   "execution_count": 38,
   "metadata": {},
   "outputs": [
    {
     "name": "stdout",
     "output_type": "stream",
     "text": [
      "+--------------------+--------------------+----------+\n",
      "|      scaledFeatures|            features|prediction|\n",
      "+--------------------+--------------------+----------+\n",
      "|(38,[0,1,2,7,8,9,...|(38,[0,1,2,7,8,9,...|         2|\n",
      "|(38,[0,1,2,7,8,9,...|(38,[0,1,2,7,8,9,...|         2|\n",
      "|(38,[1,2,7,8,9,10...|(38,[1,2,7,8,9,10...|         2|\n",
      "|(38,[1,2,7,8,9,10...|(38,[1,2,7,8,9,10...|         2|\n",
      "|(38,[1,9,15,26,27...|(38,[1,9,15,26,27...|         6|\n",
      "|(38,[1,9,15,26,27...|(38,[1,9,15,26,27...|         6|\n",
      "|(38,[1,9,15,26,27...|(38,[1,9,15,26,27...|         6|\n",
      "|(38,[1,9,15,26,27...|(38,[1,9,15,26,27...|         6|\n",
      "|(38,[1,2,7,8,9,10...|(38,[1,2,7,8,9,10...|         2|\n",
      "|(38,[1,2,7,8,9,10...|(38,[1,2,7,8,9,10...|         2|\n",
      "|(38,[1,9,15,21,26...|(38,[1,9,15,21,26...|         6|\n",
      "|(38,[1,9,15,21,26...|(38,[1,9,15,21,26...|         6|\n",
      "|(38,[1,9,15,21,26...|(38,[1,9,15,21,26...|         6|\n",
      "|(38,[1,9,15,21,26...|(38,[1,9,15,21,26...|         6|\n",
      "|(38,[0,1,2,7,8,9,...|(38,[0,1,2,7,8,9,...|         2|\n",
      "|(38,[0,1,2,7,8,9,...|(38,[0,1,2,7,8,9,...|         2|\n",
      "|(38,[0,1,2,7,8,9,...|(38,[0,1,2,7,8,9,...|         2|\n",
      "|(38,[0,1,2,7,8,9,...|(38,[0,1,2,7,8,9,...|         2|\n",
      "|(38,[0,1,2,7,8,9,...|(38,[0,1,2,7,8,9,...|         2|\n",
      "|(38,[0,1,2,7,8,9,...|(38,[0,1,2,7,8,9,...|         2|\n",
      "+--------------------+--------------------+----------+\n",
      "only showing top 20 rows\n",
      "\n"
     ]
    }
   ],
   "source": [
    "prediction.select('scaledFeatures', 'features' ,'prediction').show()"
   ]
  },
  {
   "cell_type": "code",
   "execution_count": 39,
   "metadata": {},
   "outputs": [],
   "source": [
    "import matplotlib.pyplot as plt\n",
    "import seaborn as sns; sns.set()  # for plot styling\n",
    "from sklearn.datasets import make_blobs\n",
    "from sklearn.cluster import KMeans\n",
    "from sklearn.metrics import silhouette_samples, silhouette_score\n",
    "import matplotlib.cm as cm\n",
    "import numpy as np"
   ]
  },
  {
   "cell_type": "code",
   "execution_count": 40,
   "metadata": {},
   "outputs": [
    {
     "data": {
      "image/png": "[encoded data removed]",
      "text/plain": [
       "<Figure size 432x288 with 1 Axes>"
      ]
     },
     "metadata": {},
     "output_type": "display_data"
    }
   ],
   "source": [
    "from sklearn.datasets.samples_generator import make_blobs\n",
    "cluster_final_data, labels = make_blobs(n_samples=300, centers=centers,\n",
    "                       cluster_std=0.60, random_state=0)\n",
    "plt.scatter(cluster_final_data[:, 0], cluster_final_data[:, 1], s=50);"
   ]
  },
  {
   "cell_type": "code",
   "execution_count": 41,
   "metadata": {},
   "outputs": [],
   "source": [
    "kmeans = KMeans(n_clusters=10)\n",
    "kmeans.fit(cluster_final_data)\n",
    "y_kmeans = kmeans.predict(cluster_final_data)"
   ]
  },
  {
   "cell_type": "code",
   "execution_count": 42,
   "metadata": {},
   "outputs": [
    {
     "data": {
      "image/png": "[encoded data removed]",
      "text/plain": [
       "<Figure size 432x288 with 1 Axes>"
      ]
     },
     "metadata": {},
     "output_type": "display_data"
    }
   ],
   "source": [
    "plt.scatter(cluster_final_data[:, 0], cluster_final_data[:, 1], c=y_kmeans, s=50, cmap='viridis')\n",
    "\n",
    "centers = kmeans.cluster_centers_\n",
    "plt.scatter(centers[:, 0], centers[:, 1], c='black', s=200, alpha=0.5);"
   ]
  },
  {
   "cell_type": "code",
   "execution_count": 43,
   "metadata": {},
   "outputs": [],
   "source": [
    "# determine k using elbow method\n",
    "from scipy.spatial.distance import cdist"
   ]
  },
  {
   "cell_type": "code",
   "execution_count": null,
   "metadata": {},
   "outputs": [],
   "source": []
  }
 ],
 "metadata": {
  "kernelspec": {
   "display_name": "Python 3",
   "language": "python",
   "name": "python3"
  },
  "language_info": {
   "codemirror_mode": {
    "name": "ipython",
    "version": 3
   },
   "file_extension": ".py",
   "mimetype": "text/x-python",
   "name": "python",
   "nbconvert_exporter": "python",
   "pygments_lexer": "ipython3",
   "version": "3.7.4"
  }
 },
 "nbformat": 4,
 "nbformat_minor": 2
}
